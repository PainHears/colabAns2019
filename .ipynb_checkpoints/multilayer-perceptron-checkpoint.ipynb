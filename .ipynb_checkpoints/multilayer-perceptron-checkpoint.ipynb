{
 "cells": [
  {
   "cell_type": "markdown",
   "metadata": {},
   "source": [
    "# Vícevrstvé sítě a zpětná propagace\n",
    "\n",
    "V tomto cvičení si vyzkoušíme klasifikaci pomocí vícevrstvých dopředných sítí, tzv. vícevrstvých perceptronů. Pro porovnání se přitom zaměříme na stejný dataset jako minule, tedy klasifikaci CIFAR-10."
   ]
  },
  {
   "cell_type": "code",
   "execution_count": 2,
   "metadata": {},
   "outputs": [],
   "source": [
    "%matplotlib inline"
   ]
  },
  {
   "cell_type": "code",
   "execution_count": 3,
   "metadata": {},
   "outputs": [],
   "source": [
    "import numpy as np\n",
    "import matplotlib.pyplot as plt\n",
    "import torch\n",
    "import torchvision\n",
    "import sys\n",
    "from IPython.core.debugger import set_trace\n",
    "\n",
    "import ans\n",
    "\n",
    "%load_ext autoreload\n",
    "%autoreload 2"
   ]
  },
  {
   "cell_type": "markdown",
   "metadata": {},
   "source": [
    "Výchozím datovým typem v pytorchi je 32bitový `float`, který postačuje pro trénování modelů, avšak může způsobovat problémy při kontrole implementace zpětného průchodu (gradient check). Následující buňka proto mění výchozí typ na `double`, byť v praxi, zejména při použití GPU, se z důvodu úspory paměti a času pro trénování nepoužívá. Naopak se lze setkat i s nižší přesností, např. 16bitovým floating point (half-precision) či dokonce 1bitovými binárními čísly."
   ]
  },
  {
   "cell_type": "code",
   "execution_count": 4,
   "metadata": {},
   "outputs": [],
   "source": [
    "torch.set_default_dtype(torch.double)"
   ]
  },
  {
   "cell_type": "markdown",
   "metadata": {},
   "source": [
    "## Načtení dat"
   ]
  },
  {
   "cell_type": "code",
   "execution_count": 5,
   "metadata": {},
   "outputs": [],
   "source": [
    "classes = ['airplane', 'automobile', 'bird', 'cat', 'deer', 'dog', 'frog', 'horse', 'ship', 'truck']"
   ]
  },
  {
   "cell_type": "code",
   "execution_count": 6,
   "metadata": {
    "scrolled": true
   },
   "outputs": [
    {
     "name": "stdout",
     "output_type": "stream",
     "text": [
      "Files already downloaded and verified\n"
     ]
    },
    {
     "data": {
      "text/plain": [
       "Dataset CIFAR10\n",
       "    Number of datapoints: 50000\n",
       "    Split: train\n",
       "    Root Location: ./data\n",
       "    Transforms (if any): None\n",
       "    Target Transforms (if any): None"
      ]
     },
     "execution_count": 6,
     "metadata": {},
     "output_type": "execute_result"
    }
   ],
   "source": [
    "trainset = torchvision.datasets.CIFAR10(root='./data', train=True, download=True)\n",
    "trainset"
   ]
  },
  {
   "cell_type": "code",
   "execution_count": 7,
   "metadata": {},
   "outputs": [
    {
     "data": {
      "text/plain": [
       "((50000, 32, 32, 3), dtype('uint8'))"
      ]
     },
     "execution_count": 7,
     "metadata": {},
     "output_type": "execute_result"
    }
   ],
   "source": [
    "trainset.train_data.shape, trainset.train_data.dtype"
   ]
  },
  {
   "cell_type": "code",
   "execution_count": 8,
   "metadata": {},
   "outputs": [
    {
     "data": {
      "text/plain": [
       "(list, 50000)"
      ]
     },
     "execution_count": 8,
     "metadata": {},
     "output_type": "execute_result"
    }
   ],
   "source": [
    "type(trainset.train_labels), len(trainset.train_labels)"
   ]
  },
  {
   "cell_type": "code",
   "execution_count": 9,
   "metadata": {},
   "outputs": [
    {
     "name": "stdout",
     "output_type": "stream",
     "text": [
      "Files already downloaded and verified\n"
     ]
    },
    {
     "data": {
      "text/plain": [
       "Dataset CIFAR10\n",
       "    Number of datapoints: 10000\n",
       "    Split: test\n",
       "    Root Location: ./data\n",
       "    Transforms (if any): None\n",
       "    Target Transforms (if any): None"
      ]
     },
     "execution_count": 9,
     "metadata": {},
     "output_type": "execute_result"
    }
   ],
   "source": [
    "testset = torchvision.datasets.CIFAR10(root='./data', train=False, download=True)\n",
    "testset"
   ]
  },
  {
   "cell_type": "code",
   "execution_count": 10,
   "metadata": {},
   "outputs": [
    {
     "data": {
      "text/plain": [
       "((10000, 32, 32, 3), dtype('uint8'))"
      ]
     },
     "execution_count": 10,
     "metadata": {},
     "output_type": "execute_result"
    }
   ],
   "source": [
    "testset.test_data.shape, testset.test_data.dtype"
   ]
  },
  {
   "cell_type": "code",
   "execution_count": 11,
   "metadata": {},
   "outputs": [
    {
     "data": {
      "text/plain": [
       "(list, 10000)"
      ]
     },
     "execution_count": 11,
     "metadata": {},
     "output_type": "execute_result"
    }
   ],
   "source": [
    "type(testset.test_labels), len(testset.test_labels)"
   ]
  },
  {
   "cell_type": "markdown",
   "metadata": {},
   "source": [
    "## Matice trénovacích a validačních dat"
   ]
  },
  {
   "cell_type": "markdown",
   "metadata": {},
   "source": [
    "Matice **trénovacích** dat:"
   ]
  },
  {
   "cell_type": "code",
   "execution_count": 12,
   "metadata": {},
   "outputs": [
    {
     "data": {
      "text/plain": [
       "(torch.float64, torch.Size([50000, 3072]))"
      ]
     },
     "execution_count": 12,
     "metadata": {},
     "output_type": "execute_result"
    }
   ],
   "source": [
    "# prevedeme na pytorch tensor a dostaneme do rozsahu [0...1] (vydelime 255)\n",
    "# pozn.: nastavujeme dtype explicitne, jinak PyTorch prevezme dtype z numpy pole `trainset.train_data`\n",
    "X_train = torch.tensor(trainset.train_data, dtype=torch.get_default_dtype()) / 255.\n",
    "\n",
    "# reshape na matici s obrazky na radcich\n",
    "X_train = X_train.reshape(X_train.shape[0], -1)\n",
    "\n",
    "X_train.dtype, X_train.shape"
   ]
  },
  {
   "cell_type": "markdown",
   "metadata": {},
   "source": [
    "**Labely** trénovacích dat:"
   ]
  },
  {
   "cell_type": "code",
   "execution_count": 13,
   "metadata": {},
   "outputs": [
    {
     "data": {
      "text/plain": [
       "(torch.int64, torch.Size([50000]))"
      ]
     },
     "execution_count": 13,
     "metadata": {},
     "output_type": "execute_result"
    }
   ],
   "source": [
    "y_train = torch.tensor(trainset.train_labels)\n",
    "y_train.dtype, y_train.shape"
   ]
  },
  {
   "cell_type": "markdown",
   "metadata": {},
   "source": [
    "Matice **validačních** dat:"
   ]
  },
  {
   "cell_type": "code",
   "execution_count": 14,
   "metadata": {},
   "outputs": [
    {
     "data": {
      "text/plain": [
       "(torch.float64, torch.Size([10000, 3072]))"
      ]
     },
     "execution_count": 14,
     "metadata": {},
     "output_type": "execute_result"
    }
   ],
   "source": [
    "# prevedeme na pytorch tensor a dostaneme do rozsahu [0...1] (vydelime 255)\n",
    "# pozn.: nastavujeme dtype explicitne, jinak PyTorch prevezme dtype z numpy pole `testset.test_data`\n",
    "X_valid = torch.tensor(testset.test_data, dtype=torch.get_default_dtype()) / 255.\n",
    "\n",
    "# reshape na matici s obrazky na radcich\n",
    "X_valid = X_valid.reshape(X_valid.shape[0], -1)\n",
    "\n",
    "X_valid.dtype, X_valid.shape"
   ]
  },
  {
   "cell_type": "markdown",
   "metadata": {},
   "source": [
    "**Labely** validačních dat:"
   ]
  },
  {
   "cell_type": "code",
   "execution_count": 15,
   "metadata": {},
   "outputs": [
    {
     "data": {
      "text/plain": [
       "(torch.int64, torch.Size([10000]))"
      ]
     },
     "execution_count": 15,
     "metadata": {},
     "output_type": "execute_result"
    }
   ],
   "source": [
    "y_valid = torch.tensor(testset.test_labels)\n",
    "y_valid.dtype, y_valid.shape"
   ]
  },
  {
   "cell_type": "markdown",
   "metadata": {},
   "source": [
    "## Modul: lineární vrstva"
   ]
  },
  {
   "cell_type": "markdown",
   "metadata": {},
   "source": [
    "Základním kamenem lineární klasifikace je lineární, či technicky vzato správně afinní operace, jejíž\n",
    "\n",
    "**dopředný průchod** má formu:\n",
    "$$s = Wx + b$$\n",
    "\n",
    "Z uvedeného vztahu se pak odvozuje podoba gradientu na váhy a vstup při zpětné propagaci.\n",
    "\n",
    "**Zpětný průchod**\n",
    "\n",
    "Gradient na váhovou matici $W$\n",
    "$$\\frac{\\partial L}{\\partial W} = \\frac{\\partial L}{\\partial s} x^\\top$$\n",
    "\n",
    "Gradient na bias vektor $b$\n",
    "$$\\frac{\\partial L}{\\partial b} = \\frac{\\partial L}{\\partial s}$$\n",
    "\n",
    "Gradient na vstup $x$\n",
    "$$\\frac{\\partial L}{\\partial x} = W^\\top \\frac{\\partial L}{\\partial s}$$\n",
    "\n",
    "Jak jsme si ukázali v přednášce, modularizací této operace vyjádřením jako vrstvy s dopředným a zpětným průchodem je možné výpočty libovolně řetězit a kombinovat, což usnadňuje sestavení vícevrstvých hlubokých sítí.\n",
    "\n",
    "### Modularizace\n",
    "\n",
    "Vzor obecné vrstvy je definován v modulu `ans`. Je to třída, kde důležité je následující:\n",
    "``` python\n",
    "class Layer(object):\n",
    "\n",
    "    def __init__(self):\n",
    "        super().__init__()\n",
    "        self.params = {}\n",
    "        self._cache = None\n",
    "    \n",
    "    def forward(self, *args, **kwargs):\n",
    "        raise NotImplementedError\n",
    "    \n",
    "    def backward(self, *args, **kwargs):\n",
    "        raise NotImplementedError\n",
    "```\n",
    "\n",
    "Každá vrstva typu `Layer` má parametry definované slovníkem `params`, který mapuje jména parametrů na jejich hodnoty. Dále obsahuje atribut `_cache`, který ukládá hodnoty z dopředného průchodu pro efektivnější výpočet zpětného průchodu.\n",
    "\n",
    "Modularizaci lineární vrstvy tedy provedeme tak, že ze vzoru `Layer` odvodíme třídu `Linear` a implementujeme její dvě metody, jednu pro dopředný průchod a druhou pro zpětný.\n",
    "1. Dopředný průchod vrátí $s$ dle výše uvedeného vzorce a pro efektivní výpočty uloží některé proměnné do paměti (`_cache`).\n",
    "2. Zpětný průchod přijme nějaký příchozí gradient ${\\partial L} / {\\partial s}$ (např. z nadřazené vrstvy či lossu), spočítá gradienty na svoje parametry $W$ a $b$ a vstup $x$ a vrátí k případné další propagaci výpočetním grafem.\n",
    "\n",
    "**Pozn.:** Všechny funkce navrhneme tak, aby pracovaly s dávkami vzorků (mini-batch), nikoliv pro samostatné vektory. Změna se projeví pouze tak, že se gradienty pro každý vzorek sečtou. Pokud např.\n",
    "$$ s^{(1)}=Wx^{(1)} + b $$\n",
    "$$ s^{(2)}=Wx^{(2)} + b $$\n",
    "tj. minibatch o délce dvou, během jejíhož výpočtu se parametry $W$ a $b$ nemění, pak výsledný gradient za celou dávku je\n",
    "$$ \\frac{\\partial L}{\\partial W} = \\frac{\\partial L}{\\partial s^{(1)}}{x^{(1)}}^\\top + \\frac{\\partial L}{\\partial s^{(2)}}{x^{(2)}}^\\top $$"
   ]
  },
  {
   "cell_type": "code",
   "execution_count": 16,
   "metadata": {},
   "outputs": [],
   "source": [
    "class Linear(ans.Layer):\n",
    "    \n",
    "    def __init__(self, input_dim, output_dim, weight_scale=1e-3):\n",
    "        \"\"\"\n",
    "        input_dim    ... rozmer vstupu\n",
    "        output_dim   ... rozmer vystupu\n",
    "        weight_scale ... muze byt `float` nebo retezec s nazvem inicializacni metody\n",
    "        \"\"\"\n",
    "        super().__init__()\n",
    "        \n",
    "        #################################################################\n",
    "        # ZDE DOPLNIT\n",
    "        \n",
    "        # pripad weight_scale == 'xavier' znamena automaticky nastavit\n",
    "        # weight_scale na hodnotu zavislou na velikosti vstupu\n",
    "        self.input_dim = input_dim\n",
    "        self.output_dim = output_dim\n",
    "        self.weight_scale = torch.randn(1,1)/np.sqrt(self.input_dim)\n",
    "        \n",
    "        # slovnik `params` drzi hodnoty parametru vrstvy, tj. napr. vahovou matici a bias\n",
    "        self.params = {\n",
    "            'weights': torch.randn(self.input_dim,self.output_dim)*self.weight_scale,\n",
    "            'bias': torch.randn(self.output_dim)*self.weight_scale\n",
    "        }\n",
    "        \n",
    "        #################################################################\n",
    "    \n",
    "    def forward(self, inputs):\n",
    "        \"\"\"\n",
    "        dopredny pruchod linearni vrstvou\n",
    "\n",
    "        vstup:\n",
    "            inputs  ... N x D matice vstupu (minibatch o delce N)\n",
    "\n",
    "        vystup:\n",
    "            score   ... N x H vystupni linearni skore\n",
    "        \"\"\"\n",
    "                \n",
    "        #################################################################\n",
    "        # ZDE DOPLNIT\n",
    "        \n",
    "        score = torch.matmul(inputs, self.__getattr__('weights'))+self.__getattr__('bias')\n",
    "        self._cache = inputs\n",
    "        \n",
    "        #################################################################\n",
    "\n",
    "        return score\n",
    "    \n",
    "    def backward(self, dscore):\n",
    "        \"\"\"\n",
    "        zpetny pruchod linearni vrstvou\n",
    "\n",
    "        vstup:\n",
    "            dscore  ... N x H prichozi gradient z nadrazene vrstvy\n",
    "\n",
    "        vystup:\n",
    "            dinputs ... N x D gradient na vstup, tj. na `inputs` metody `forward`\n",
    "            grads   ... slovnik mapujici jmena parametru na jejich gradienty\n",
    "        \"\"\"\n",
    "        \n",
    "        #################################################################\n",
    "        # ZDE DOPLNIT\n",
    "        \n",
    "        #y_vec = torch.zeros(self.output_dim)\n",
    "        #y_vec[yn] = 1\n",
    "        \n",
    "        # nacist cache\n",
    "        x_data = self._cache\n",
    "        \n",
    "        # spocitat gradienty\n",
    "        dinputs = torch.matmul(dscore,self.__getattr__('weights').clone().t())\n",
    "        dweights = torch.matmul(x_data.clone().t(),dscore)\n",
    "        dbias = torch.sum(dscore, 0)\n",
    "        \n",
    "        ##################################################################\n",
    "\n",
    "        return dinputs, {'weights': dweights, 'bias': dbias}"
   ]
  },
  {
   "cell_type": "markdown",
   "metadata": {},
   "source": [
    "Zda si dopředný a zpětný průchod odpovídají zjistíme kontrolou získaného gradientu. Vrstvu vyzkoušíme na malých testovacích \"dummy\" datech s náhodnými čísly, kterými nasimulujeme vstup a příchozí gradient \"shora\". Chyba gradientu u všech parametrů i vstupu by měla být malá, pro datový typ `double`, se kterým pracujeme, řádově $10^{-5}$. Metoda `ans.check_gradients` navíc vrací numerický i námi implemetovaný gradient a při problémech s implementací je tak možné je porovnat."
   ]
  },
  {
   "cell_type": "code",
   "execution_count": 17,
   "metadata": {},
   "outputs": [
    {
     "name": "stdout",
     "output_type": "stream",
     "text": [
      "dinput1 error:  2.984335029655855e-14\n",
      "dweights error:  1.7425742364156522e-15\n",
      "dbias error:  6.2813913533299616e-15\n"
     ]
    }
   ],
   "source": [
    "# zkusebni instance modelu (vstup vel. 5, vystup vel. 3)\n",
    "linear_layer = Linear(5, 3)\n",
    "\n",
    "# toy vstupni data (pocet_vektoru x dimenze_vektoru)\n",
    "inputs = torch.randn(10, 5)\n",
    "\n",
    "# \"simulace\" gradientu na vystup\n",
    "dscore = torch.randn(10, 3)\n",
    "\n",
    "# porovnani; rel. chyba gradientu by mela byt velmi mala, pro float32 radove 1e-5\n",
    "grads, grads_num = ans.check_gradients(linear_layer, inputs, dscore)\n"
   ]
  },
  {
   "cell_type": "markdown",
   "metadata": {},
   "source": [
    "## Modul: softmax cross entropy"
   ]
  },
  {
   "cell_type": "markdown",
   "metadata": {},
   "source": [
    "Kritérium je svým způsobem \"terminální\" vrstva, kde výpočet končí. Hodnota lossu určí, jak moc je výstup ze sítě (vstup do lossu) špatný porovnáním se správnou hodnotou (target / label / ground truth / reference). Druhým krokem je vrátit gradient na svůj vstup (tedy výstup sítě), který říká, co a jak změnit. Jak si tento gradient síť dále přebere a propaguje, už je \"její starost\".\n",
    "\n",
    "Výstup logistické regrese je definován jako softmax vstupních skóre\n",
    "$$ p_c = \\frac{\\exp{s_c}}{\\sum_{i=0}^{C-1}\\exp{s_i}} $$\n",
    "\n",
    "kde $s_c = w_c^\\top x$ je lineární skóre, $w_c$ je $c$-tý řádek matice vah $W$. Pravděpodobnosti $p_c$ pak vstupují do křížové entropie, která je porovná se správným rozložením (samé nuly kromě jedné jedničky pro správnou třídu). Výsledkem dopředného průchodu je jediné číslo $L$ udávající hodnotu lossu.\n",
    "\n",
    "**Dopředný průchod**\n",
    "$$ L = -\\sum_{c=0}^{C-1}\\left(\\boldsymbol{1}(c=y)\\log p_c\\right) = -\\log p_y $$\n",
    "\n",
    "Jelikož je softmax monotónní operace, neboli pořadí prvků dle jejich velikosti se po provedení nemění, není $p_c$ v testovací fázi (inference) potřeba počítat. Můžeme proto predikovat už na základě skóre a normalizaci na pravděpodobnosti si odpustit.\n",
    "\n",
    "Softmax tedy budeme používat pouze ve spojitosti s lossem. Loss funkci proto zadefinujeme tak, že bude místo pravděpodobností přijímat skóre a softmax bude její součástí. Výhodou tohoto přístupu navíc je, že budeme moci snadno vyměnit loss např. za SVM hinge, které rovněž přijímá skóre, nikoliv pravděpodobnosti.\n",
    "\n",
    "**Zpětný průchod**\n",
    "\n",
    "Gradient na vektor skóre $s$ je\n",
    "$$ \\frac{\\partial L}{\\partial s_c} = \\log p_c - \\boldsymbol{1}(c=y) $$\n",
    "\n",
    "**Poznámky**\n",
    "- Nezapomínejme, že uvedené vzorce platí pro *jeden* vstupní vektor potažmo skóre $s$. V implementaci však budeme pracovat s minidávkami o délce $N$, tj. skóre bude tvaru $N \\times C$, kde $C$ je počet tříd. Výpočet lossu $L$ je proto nutné provést pro každý vektor skóre $s^{(n)}$ ($n = 1, \\ldots, N$) v dávce a dílčí výsledky *sečíst*. Gradient pak musí být na každý vektor $s^{(n)}$ v dávce, tedy stejně jako vstup o rozměru $N \\times C$.\n",
    "- Pro lepší numerickou stabilitu před softmaxem odečtěte od všech skóre jejich max. hodnotu, pro každý vektor skóre v minidávce zvlášť. Vzhledem k tomu, že odečtení bude v čitateli i ve jmenovateli softmaxu, matematicky se jedná jen o rozšíření zlomku. Ale bude se pracovat s menšími čísly, a tak se sníží riziko přetečení a různých nekonečen."
   ]
  },
  {
   "cell_type": "code",
   "execution_count": 33,
   "metadata": {},
   "outputs": [],
   "source": [
    "class SoftmaxCrossEntropy(ans.Layer):\n",
    "    \n",
    "    def __init__(self, average=True):\n",
    "        \"\"\"\n",
    "        average ... pokud je `True`, hodnota lossu nebude soucet, ale prumer pres davku (minibatch)\n",
    "        \"\"\"\n",
    "        super().__init__()\n",
    "        self.average = average\n",
    "    \n",
    "    def forward(self, scores, targets=None):\n",
    "        \"\"\"\n",
    "        vstup:\n",
    "            scores  ... N x C matice skore, n-ty radek je skore pro n-ty obrazek\n",
    "            targets ... int vektor o rozmeru N, kde n-ty prvek znaci index spravne tridy n-teho obrazku\n",
    "            \n",
    "            Pokud je `targets` `None`, pak `scores` musi byt `tuple` (par) obsahujici oba vstupy. Je tomu\n",
    "            tak kvuli rozhrani automaticke kontroly gradientu.\n",
    "        \"\"\"\n",
    "        \n",
    "        if targets is None:\n",
    "            scores, targets = scores\n",
    "        \n",
    "        #################################################################\n",
    "        # ZDE DOPLNIT\n",
    "        #print(\"Targets\")\n",
    "        #print(targets)\n",
    "        \n",
    "        #print(\"Scores\")\n",
    "        #print(scores)\n",
    "        for i in range(scores.shape[0]):\n",
    "            scores[i, :] -= torch.max(scores[i, :])\n",
    "        \n",
    "        probs = torch.softmax(scores, 1)\n",
    "        \n",
    "       # print(\"Probs:\")\n",
    "        #print(probs)\n",
    "\n",
    "        log_array = -torch.log(probs[range(np.size(targets,0)), targets]) #https://deepnotes.io/softmax-crossentropy\n",
    "        loss = torch.sum(log_array) \n",
    "     \n",
    "        \n",
    "        if self.average:\n",
    "            loss = loss/log_array.shape[0]\n",
    "        self._cache = probs, targets\n",
    "        \n",
    "        #################################################################\n",
    "\n",
    "        return loss\n",
    "    \n",
    "    def backward(self, dloss=1.):\n",
    "        \"\"\"\n",
    "        zpetny pruchod linearni vrstvou\n",
    "\n",
    "        vstup:\n",
    "            dloss  ... gradient z nadrazene vrstvy, skalar\n",
    "\n",
    "        vystup:\n",
    "            dscores ... N x D gradient na vstup\n",
    "            grads   ... slovnik mapujici jmena parametru na jejich gradienty (prazdny, `Softmax` nema parametry)\n",
    "        \"\"\"\n",
    "        \n",
    "        #################################################################\n",
    "        # ZDE DOPLNIT\n",
    "        \n",
    "        # nacist cache\n",
    "        probs, targets = self._cache\n",
    "        \n",
    "        mat = torch.zeros(probs.shape[0], probs.shape[1])\n",
    "        for i in range(targets.shape[0]):\n",
    "            mat[i, targets[i]] = 1\n",
    "        #print(mat)\n",
    "        dscores = (probs-mat)\n",
    "        \n",
    "        \n",
    "        #print(dscores.shape)\n",
    "        if self.average:\n",
    "            dscores = dscores/probs.shape[0]\n",
    "            \n",
    "        \n",
    "        dparams = {}\n",
    "        \n",
    "        #################################################################\n",
    "\n",
    "        return dscores, dparams"
   ]
  },
  {
   "cell_type": "code",
   "execution_count": 34,
   "metadata": {},
   "outputs": [
    {
     "name": "stdout",
     "output_type": "stream",
     "text": [
      "dscores error:  0.35000466232746336\n"
     ]
    }
   ],
   "source": [
    "# zkusebni instance modelu\n",
    "smax_ce = SoftmaxCrossEntropy(average=True)\n",
    "\n",
    "# toy vstupni data (pocet_vektoru x dimenze_vektoru)\n",
    "scores = torch.randn(10, 3)\n",
    "targets = torch.randint(3, (10,))\n",
    "\n",
    "\n",
    "\n",
    "# porovnani; rel. chyba gradientu by mela byt velmi mala, pro float32 radove 1e-5 \n",
    "grads, grads_num = ans.check_gradients(smax_ce, (scores, targets), torch.ones(1), input_names=('scores', 'targets'))\n"
   ]
  },
  {
   "cell_type": "markdown",
   "metadata": {},
   "source": [
    "## Trénování a validace"
   ]
  },
  {
   "cell_type": "markdown",
   "metadata": {},
   "source": [
    "Jak jsme si ukázali v prvním cvičení, nejrozšířenějším způsobem učení neuronových sítí je iterativní minimimalizace metodou stochastic gradient descent (SGD). Po malých dávkách síť vždy predikuje výstup, ten se nějakým kritériem (loss) porovná se správnou hodnotou (ground truth) a na základě tohoto rozdílu se upraví vnitřní parametry modelu tak, aby příště výstup co možná nejlépe odpovídal anotaci. Neustále se tedy opakuje:\n",
    "1. navzorkování dávky dat (minibatch)\n",
    "2. dopedný průchod (výstupní skóre)\n",
    "3. vyhocení kritéria (loss)\n",
    "3. zpětný průchod (gradient na parametry)\n",
    "4. update parametrů\n",
    "\n",
    "Jelikož trénování téměř libovolného dopředného modelu pro klasifikaci lze provést tímto způsobem, celý proces je zalaben do metody `train` v modulu `ans`. Podobně je v modulu `ans` implementována i metoda `validate` sloužící pro validaci. Obě metody byly navrženy tak, aby připomínaly způsob trénování v PyTorchi.\n",
    "\n",
    "Metody přijímají několik společných parametrů:\n",
    "- `model` ... objekt typu `ans.Layer` implementující metody `forward` a `backward`\n",
    "- `crit` ... kritérium (např. softmax cross entropy); vrací skalár a rovněž musí implementovat metody `forward` a `backward`\n",
    "- `loader` ... iterátor typu `ans.BatchLoader`, který prochází data po minidávkách a vždy vrací dvojci `(X_data, y_data)`\n",
    "- `stats` ... objekt, který shromažďuje statistiky a následně vykreslí do tabulky či grafu\n",
    "\n",
    "U `train` je jeden parametr navíc:\n",
    "- `optimizer` ... objekt, který je zodpovědný za update parametrů modelu v každé iteraci; jejich seznam přebírá v konstruktoru"
   ]
  },
  {
   "cell_type": "code",
   "execution_count": 40,
   "metadata": {},
   "outputs": [],
   "source": [
    "softmax_model = Linear(3072,10)\n",
    "sce = SoftmaxCrossEntropy()\n",
    "\n",
    "train_loader = ans.BatchLoader(X_train, y_train, 10, 'train', shuffle=True)\n",
    "valid_loader = ans.BatchLoader(X_valid, y_valid, 10, 'valid', shuffle=True)\n",
    "\n",
    "optimizer = ans.SGD(softmax_model.params, learning_rate=0.001, weight_decay_l2=0.001)\n",
    "\n",
    "softmax_stats = ans.Stats()"
   ]
  },
  {
   "cell_type": "code",
   "execution_count": 41,
   "metadata": {
    "scrolled": true
   },
   "outputs": [
    {
     "name": "stdout",
     "output_type": "stream",
     "text": [
      "Automatic pdb calling has been turned OFF\n"
     ]
    },
    {
     "data": {
      "application/vnd.jupyter.widget-view+json": {
       "model_id": "22da17f50c6e4984b7a5053049e58bef",
       "version_major": 2,
       "version_minor": 0
      },
      "text/plain": [
       "HBox(children=(IntProgress(value=0, description='epoch 01 train', max=5000, style=ProgressStyle(description_wi…"
      ]
     },
     "metadata": {},
     "output_type": "display_data"
    },
    {
     "data": {
      "application/vnd.jupyter.widget-view+json": {
       "model_id": "6b7cc7124d144a7db292253c216137b6",
       "version_major": 2,
       "version_minor": 0
      },
      "text/plain": [
       "HBox(children=(IntProgress(value=0, description='epoch 01 valid', max=1000, style=ProgressStyle(description_wi…"
      ]
     },
     "metadata": {},
     "output_type": "display_data"
    },
    {
     "data": {
      "application/vnd.jupyter.widget-view+json": {
       "model_id": "89673fd6caf143c99df319867f792e42",
       "version_major": 2,
       "version_minor": 0
      },
      "text/plain": [
       "HBox(children=(IntProgress(value=0, description='epoch 02 train', max=5000, style=ProgressStyle(description_wi…"
      ]
     },
     "metadata": {},
     "output_type": "display_data"
    },
    {
     "data": {
      "application/vnd.jupyter.widget-view+json": {
       "model_id": "f9d8352d89764a81a73c603282ae6f5a",
       "version_major": 2,
       "version_minor": 0
      },
      "text/plain": [
       "HBox(children=(IntProgress(value=0, description='epoch 02 valid', max=1000, style=ProgressStyle(description_wi…"
      ]
     },
     "metadata": {},
     "output_type": "display_data"
    },
    {
     "data": {
      "application/vnd.jupyter.widget-view+json": {
       "model_id": "ce8d7e0b3be34073a360625ae5d362fd",
       "version_major": 2,
       "version_minor": 0
      },
      "text/plain": [
       "HBox(children=(IntProgress(value=0, description='epoch 03 train', max=5000, style=ProgressStyle(description_wi…"
      ]
     },
     "metadata": {},
     "output_type": "display_data"
    },
    {
     "data": {
      "application/vnd.jupyter.widget-view+json": {
       "model_id": "4d63b44365934091b7718832b98ab5cd",
       "version_major": 2,
       "version_minor": 0
      },
      "text/plain": [
       "HBox(children=(IntProgress(value=0, description='epoch 03 valid', max=1000, style=ProgressStyle(description_wi…"
      ]
     },
     "metadata": {},
     "output_type": "display_data"
    }
   ],
   "source": [
    "%pdb off\n",
    "\n",
    "for epoch in range(3):\n",
    "    softmax_stats.new_epoch()\n",
    "    ans.train(softmax_model, sce, train_loader, optimizer, softmax_stats)\n",
    "    ans.validate(softmax_model, sce, valid_loader, softmax_stats)"
   ]
  },
  {
   "cell_type": "code",
   "execution_count": 42,
   "metadata": {
    "scrolled": false
   },
   "outputs": [
    {
     "data": {
      "image/png": "[encoded data removed]",
      "text/plain": [
       "<Figure size 432x288 with 2 Axes>"
      ]
     },
     "metadata": {},
     "output_type": "display_data"
    }
   ],
   "source": [
    "softmax_stats.plot_by_epoch()"
   ]
  },
  {
   "cell_type": "code",
   "execution_count": 43,
   "metadata": {},
   "outputs": [
    {
     "data": {
      "text/html": [
       "<div>\n",
       "<style scoped>\n",
       "    .dataframe tbody tr th:only-of-type {\n",
       "        vertical-align: middle;\n",
       "    }\n",
       "\n",
       "    .dataframe tbody tr th {\n",
       "        vertical-align: top;\n",
       "    }\n",
       "\n",
       "    .dataframe thead th {\n",
       "        text-align: right;\n",
       "    }\n",
       "</style>\n",
       "<table border=\"1\" class=\"dataframe\">\n",
       "  <thead>\n",
       "    <tr style=\"text-align: right;\">\n",
       "      <th>Epoch 03</th>\n",
       "      <th>loss</th>\n",
       "      <th>acc</th>\n",
       "    </tr>\n",
       "  </thead>\n",
       "  <tbody>\n",
       "    <tr>\n",
       "      <th>train</th>\n",
       "      <td>1.816349</td>\n",
       "      <td>0.36862</td>\n",
       "    </tr>\n",
       "    <tr>\n",
       "      <th>valid</th>\n",
       "      <td>1.803083</td>\n",
       "      <td>0.37370</td>\n",
       "    </tr>\n",
       "  </tbody>\n",
       "</table>\n",
       "</div>"
      ],
      "text/plain": [
       "Epoch 03      loss      acc\n",
       "train     1.816349  0.36862\n",
       "valid     1.803083  0.37370"
      ]
     },
     "execution_count": 43,
     "metadata": {},
     "output_type": "execute_result"
    }
   ],
   "source": [
    "softmax_stats.summary()"
   ]
  },
  {
   "cell_type": "code",
   "execution_count": 44,
   "metadata": {},
   "outputs": [
    {
     "data": {
      "image/png": "[encoded data removed]",
      "text/plain": [
       "<Figure size 432x288 with 2 Axes>"
      ]
     },
     "metadata": {},
     "output_type": "display_data"
    }
   ],
   "source": [
    "softmax_stats.plot_by_batch(block_len=10)"
   ]
  },
  {
   "cell_type": "markdown",
   "metadata": {},
   "source": [
    "## Vícevrstvý perceptron"
   ]
  },
  {
   "cell_type": "markdown",
   "metadata": {},
   "source": [
    "Teď, když máme modularizovanou lineární vrstvu, můžeme si jich vytvořit více a začít je za sebe řetězit. K tomu, abychom vytvořili vícevrstvou síť, však potřebujeme mezi jednotlivé lineární vrstvy ještě přidat nějakou nelineární aktivační funkci. Více lineárních vrstev za sebou totiž dohromady tvoří stále pouze lineární funkci, byť se specifickou faktorizací parametrů.\n",
    "\n",
    "Nejjednodušší vícevrstvá síť je dvouvrstvý perceptron (perceptron s jednou skrytou vrstvou). Model je:\n",
    "1. $s_1 = W_1x + b_1$\n",
    "2. $h = f(x)$\n",
    "3. $s_2 = W_2h + b_2$\n",
    "\n",
    "kde $f$ je nějaká nelinearita."
   ]
  },
  {
   "cell_type": "markdown",
   "metadata": {},
   "source": [
    "### Sigmoid funkce"
   ]
  },
  {
   "cell_type": "markdown",
   "metadata": {},
   "source": [
    "Historicky populární volbou nelinearity vycházející z biologického modelu neuronů je sigmoida. Vypadá následovně:\n",
    "\n",
    "\n",
    "**Dopředný průchod**\n",
    "$$h = \\frac{1}{1 + \\exp(-s)}$$\n",
    "\n",
    "kde $s$ je vstupní \"skóre\" a $h$ je výsledná skrytá (\"hidden\") reprezentace.\n",
    "\n",
    "**Zpětný průchod**\n",
    "$$\\frac{\\partial L}{\\partial s} = \\frac{\\partial L}{\\partial h} h (1 - h)$$"
   ]
  },
  {
   "cell_type": "code",
   "execution_count": 46,
   "metadata": {},
   "outputs": [],
   "source": [
    "class Sigmoid(ans.Layer):\n",
    "    \n",
    "    def __init__(self):\n",
    "        super().__init__()\n",
    "    \n",
    "    def forward(self, score):\n",
    "        \n",
    "        #################################################################\n",
    "        # ZDE DOPLNIT\n",
    "        \n",
    "        hidden = torch.sigmoid(score)\n",
    "        self._cache = hidden\n",
    "        \n",
    "        #################################################################\n",
    "        \n",
    "        return hidden\n",
    "    \n",
    "    def backward(self, dhidden):\n",
    "        \n",
    "        #################################################################\n",
    "        # ZDE DOPLNIT\n",
    "        hidden = self._cache\n",
    "        \n",
    "        dscore = torch.mul(dhidden, torch.mul(hidden, 1-hidden))\n",
    "        #dscore = dhidden*(1-dhidden)\n",
    "        dparams = {}\n",
    "        \n",
    "        #################################################################\n",
    "        \n",
    "        return dscore, dparams"
   ]
  },
  {
   "cell_type": "code",
   "execution_count": 47,
   "metadata": {},
   "outputs": [
    {
     "name": "stdout",
     "output_type": "stream",
     "text": [
      "dinput1 error:  0.00042392042177155707\n"
     ]
    }
   ],
   "source": [
    "# overime na male davce\n",
    "score = torch.randn(10,5)\n",
    "\n",
    "# \"simulace\" prichoziho gradientu, ktery ma vrstva dale propagovat\n",
    "dhidden = torch.randn(10,5)\n",
    "\n",
    "# instance vrstvy\n",
    "sigmoid_layer = Sigmoid()\n",
    "\n",
    "# jelikoz sigmoida nema zadne parametry, kontrolovat se bude pouze gradient na vstup\n",
    "ans.check_gradients(sigmoid_layer, score, dhidden);"
   ]
  },
  {
   "cell_type": "markdown",
   "metadata": {},
   "source": [
    "### Definice modelu vícevrstvého perceptronu\n",
    "\n",
    "Celý model složený z více vrstev se bude chovat jako jediná vrstva provádějící komplexnější operaci."
   ]
  },
  {
   "cell_type": "code",
   "execution_count": 62,
   "metadata": {},
   "outputs": [],
   "source": [
    "class TwoLayerPerceptron(ans.Layer):\n",
    "    \n",
    "    def __init__(self, input_dim, hidden_dim, output_dim, weight_scale=1e-3):\n",
    "        super().__init__()\n",
    "        \n",
    "        #################################################################\n",
    "        # ZDE DOPLNIT\n",
    "        \n",
    "        self.l1 = Linear(input_dim, output_dim)\n",
    "        self.sigm = Sigmoid()\n",
    "        self.l2 = Linear(input_dim, output_dim)\n",
    "        \n",
    "        \n",
    "        self.params = {\n",
    "            'weights1': self.l1.params['weights'],\n",
    "            'bias1': self.l1.params['bias'],\n",
    "            'weights2': self.l2.params['weights'], \n",
    "            'bias2': self.l2.params['bias'], \n",
    "        }   \n",
    "        \n",
    "        #################################################################\n",
    "    \n",
    "    def forward(self, inputs):\n",
    "        \n",
    "        #################################################################\n",
    "        # ZDE DOPLNIT\n",
    "        \n",
    "        score = self.l1.forward(inputs)\n",
    "        sigmoida = self.sigm.forward(score)\n",
    "        score2 = self.l2.forward(inputs)\n",
    "        self._cache = inputs, sigmoida\n",
    "        \n",
    "        #################################################################\n",
    "\n",
    "        return score2\n",
    "    \n",
    "    def backward(self, dscore2):\n",
    "        \n",
    "        #################################################################\n",
    "        # ZDE DOPLNIT\n",
    "        \n",
    "        # backprop po jednotlivych vrstvach postupne zpet az ke vstupu\n",
    "        inputs, sigmoida = self._cache\n",
    "        \n",
    "        dinputs, layer2 = self.l2.backward(dscore2)\n",
    "        dscore, _ = self.sigm.backward(torch.matmul(sigmoida,(1-sigmoida)))\n",
    "        dinputs2, layer1 = self.l1.backward(inputs)\n",
    "                \n",
    "        dparams = {\n",
    "            'weights1': layer1['weights'],\n",
    "            'bias1': layer1['bias'],\n",
    "            'weights2': layer2['weights'], \n",
    "            'bias2': layer2['bias']\n",
    "        }\n",
    "        \n",
    "        #################################################################\n",
    "        \n",
    "        return dinputs, dparams"
   ]
  },
  {
   "cell_type": "code",
   "execution_count": 63,
   "metadata": {},
   "outputs": [
    {
     "name": "stdout",
     "output_type": "stream",
     "text": [
      "dinput1 error:  8.367439374376069e-14\n",
      "dweights1 error:  1.0\n",
      "dbias1 error:  1.0\n",
      "dweights2 error:  2.67095993311289e-13\n",
      "dbias2 error:  6.1418671341014175e-15\n"
     ]
    }
   ],
   "source": [
    "# overime na male davce\n",
    "inputs = torch.randn(10,10)\n",
    "\n",
    "# \"simulace\" prichoziho gradientu, ktery ma vrstva dale propagovat\n",
    "dscore2 = torch.randn(10,10)\n",
    "\n",
    "# instance vrstvy\n",
    "two_layer_perc = TwoLayerPerceptron(10,10,10)\n",
    "\n",
    "# jelikoz sigmoida nema zadne parametry, kontrolovat se bude pouze gradient na vstup\n",
    "ans.check_gradients(two_layer_perc, inputs, dscore2);"
   ]
  },
  {
   "cell_type": "markdown",
   "metadata": {},
   "source": [
    "### Trénování vícevrstvého perceptronu"
   ]
  },
  {
   "cell_type": "code",
   "execution_count": 50,
   "metadata": {},
   "outputs": [],
   "source": [
    "tlp_model = TwoLayerPerceptron(3072,10, 10)\n",
    "sce = SoftmaxCrossEntropy()\n",
    "\n",
    "train_loader = ans.BatchLoader(X_train, y_train, 10, 'train', shuffle=True)\n",
    "valid_loader = ans.BatchLoader(X_valid, y_valid, 10, 'valid', shuffle=True)\n",
    "\n",
    "optimizer = ans.SGD(tlp_model.params, learning_rate=0.001, weight_decay_l2=0.001)\n",
    "\n",
    "tlp_stats = ans.Stats()"
   ]
  },
  {
   "cell_type": "code",
   "execution_count": 51,
   "metadata": {
    "scrolled": true
   },
   "outputs": [
    {
     "data": {
      "application/vnd.jupyter.widget-view+json": {
       "model_id": "10484732a79e444185b2ba791577ed1b",
       "version_major": 2,
       "version_minor": 0
      },
      "text/plain": [
       "HBox(children=(IntProgress(value=0, description='epoch 01 train', max=5000, style=ProgressStyle(description_wi…"
      ]
     },
     "metadata": {},
     "output_type": "display_data"
    },
    {
     "data": {
      "application/vnd.jupyter.widget-view+json": {
       "model_id": "f7307b2f0e1e4c5c90fd533f3af035f2",
       "version_major": 2,
       "version_minor": 0
      },
      "text/plain": [
       "HBox(children=(IntProgress(value=0, description='epoch 01 valid', max=1000, style=ProgressStyle(description_wi…"
      ]
     },
     "metadata": {},
     "output_type": "display_data"
    },
    {
     "data": {
      "application/vnd.jupyter.widget-view+json": {
       "model_id": "97379e446a3e4ac488ed450bc18bf3ef",
       "version_major": 2,
       "version_minor": 0
      },
      "text/plain": [
       "HBox(children=(IntProgress(value=0, description='epoch 02 train', max=5000, style=ProgressStyle(description_wi…"
      ]
     },
     "metadata": {},
     "output_type": "display_data"
    },
    {
     "data": {
      "application/vnd.jupyter.widget-view+json": {
       "model_id": "f7dfed1212554eee97709cb7f9c29096",
       "version_major": 2,
       "version_minor": 0
      },
      "text/plain": [
       "HBox(children=(IntProgress(value=0, description='epoch 02 valid', max=1000, style=ProgressStyle(description_wi…"
      ]
     },
     "metadata": {},
     "output_type": "display_data"
    },
    {
     "data": {
      "application/vnd.jupyter.widget-view+json": {
       "model_id": "1c8f6c38d4b649f8a1314e3cb24bc544",
       "version_major": 2,
       "version_minor": 0
      },
      "text/plain": [
       "HBox(children=(IntProgress(value=0, description='epoch 03 train', max=5000, style=ProgressStyle(description_wi…"
      ]
     },
     "metadata": {},
     "output_type": "display_data"
    },
    {
     "data": {
      "application/vnd.jupyter.widget-view+json": {
       "model_id": "33515951bc8c4a9c8a3dc936e5c9c946",
       "version_major": 2,
       "version_minor": 0
      },
      "text/plain": [
       "HBox(children=(IntProgress(value=0, description='epoch 03 valid', max=1000, style=ProgressStyle(description_wi…"
      ]
     },
     "metadata": {},
     "output_type": "display_data"
    }
   ],
   "source": [
    "for ep in range(3):\n",
    "    tlp_stats.new_epoch()\n",
    "    ans.train(tlp_model, sce, train_loader, optimizer, tlp_stats)\n",
    "    ans.validate(tlp_model, sce, valid_loader, tlp_stats)"
   ]
  },
  {
   "cell_type": "code",
   "execution_count": 52,
   "metadata": {
    "scrolled": false
   },
   "outputs": [
    {
     "data": {
      "text/html": [
       "<div>\n",
       "<style scoped>\n",
       "    .dataframe tbody tr th:only-of-type {\n",
       "        vertical-align: middle;\n",
       "    }\n",
       "\n",
       "    .dataframe tbody tr th {\n",
       "        vertical-align: top;\n",
       "    }\n",
       "\n",
       "    .dataframe thead th {\n",
       "        text-align: right;\n",
       "    }\n",
       "</style>\n",
       "<table border=\"1\" class=\"dataframe\">\n",
       "  <thead>\n",
       "    <tr style=\"text-align: right;\">\n",
       "      <th>Epoch 03</th>\n",
       "      <th>loss</th>\n",
       "      <th>acc</th>\n",
       "    </tr>\n",
       "  </thead>\n",
       "  <tbody>\n",
       "    <tr>\n",
       "      <th>train</th>\n",
       "      <td>1.812594</td>\n",
       "      <td>0.37188</td>\n",
       "    </tr>\n",
       "    <tr>\n",
       "      <th>valid</th>\n",
       "      <td>1.797891</td>\n",
       "      <td>0.37340</td>\n",
       "    </tr>\n",
       "  </tbody>\n",
       "</table>\n",
       "</div>"
      ],
      "text/plain": [
       "Epoch 03      loss      acc\n",
       "train     1.812594  0.37188\n",
       "valid     1.797891  0.37340"
      ]
     },
     "execution_count": 52,
     "metadata": {},
     "output_type": "execute_result"
    }
   ],
   "source": [
    "tlp_stats.best_results()"
   ]
  },
  {
   "cell_type": "code",
   "execution_count": 53,
   "metadata": {
    "scrolled": true
   },
   "outputs": [
    {
     "data": {
      "image/png": "[encoded data removed]",
      "text/plain": [
       "<Figure size 432x288 with 2 Axes>"
      ]
     },
     "metadata": {},
     "output_type": "display_data"
    }
   ],
   "source": [
    "tlp_stats.plot_by_epoch()"
   ]
  },
  {
   "cell_type": "code",
   "execution_count": 57,
   "metadata": {},
   "outputs": [
    {
     "data": {
      "image/png": "[encoded data removed]",
      "text/plain": [
       "<Figure size 432x288 with 2 Axes>"
      ]
     },
     "metadata": {},
     "output_type": "display_data"
    }
   ],
   "source": [
    "tlp_stats.plot_by_batch(block_len=500)"
   ]
  },
  {
   "cell_type": "markdown",
   "metadata": {},
   "source": [
    "## Modul: ReLU nelinearita"
   ]
  },
  {
   "cell_type": "markdown",
   "metadata": {},
   "source": [
    "Sigmoid se z důvodu jeho nevýhodných vlastností pro trénování (především \"zabíjení\" gradientu při zpětné propagaci) dnes s výjimkou rekurentních sítí již téměř nepoužívá. V současnosti je jednou z nejpopulárnějších nelinearit Recitifed Linear Unit (ReLU), která nuluje vstupy se zápornou hodnotou. Má podobu:\n",
    "\n",
    "**Dopředný průchod**\n",
    "$$h = \\max(0, s)$$\n",
    "\n",
    "**Zpětný průchod**\n",
    "$$\\frac{\\partial L}{\\partial s} = \\frac{\\partial L}{\\partial h} \\boldsymbol{1}(s \\ge 0)$$\n",
    "\n",
    "**Poznámka ke gradient checku**\n",
    "\n",
    "Jelikoz ReLU není diferencovatelná, nemusí si numerický a analytický gradient vždy odpovídat. Chyba vznikne, pokud je ve vstupu $s$ nějaká hodnota blíže nule než je krok $\\Delta_s$ pro numerickou diferenci. Např. centrální diference v bodě 0.001 s krokem 0.01 je\n",
    "$$\\frac{ReLU(0.001 + 0.01) - ReLU(0.001 - 0.01)}{2\\cdot 0.01} = \\frac{0.011 - 0}{0.02} = 0.55$$\n",
    "zatímco analyticky je derivace v bodě $0.001$ rovna přesně $1$. Je tedy možné, že se občas objeví velká rel. odchylka gradientů, mnohem častěji pro malé hodnoty vstupu $s$. Napravit to lze např. menším krokem $\\Delta_s$ numerické diference, který by měl být řádově menší než vstup $s$."
   ]
  },
  {
   "cell_type": "code",
   "execution_count": 81,
   "metadata": {},
   "outputs": [],
   "source": [
    "class ReLU(ans.Layer):\n",
    "    \n",
    "    def __init__(self):\n",
    "        super().__init__()\n",
    "    \n",
    "    def forward(self, score):\n",
    "        \n",
    "        #################################################################\n",
    "        # ZDE DOPLNIT\n",
    "        \n",
    "        hidden = max(0,score)\n",
    "        #self._cache = ...\n",
    "        \n",
    "        #################################################################\n",
    "        \n",
    "        return hidden\n",
    "    \n",
    "    def backward(self, dhidden):\n",
    "        \n",
    "        #################################################################\n",
    "        # ZDE DOPLNIT\n",
    "        \n",
    "        dscore = max(0, dhidden)\n",
    "        dparams = {}\n",
    "        \n",
    "        #################################################################\n",
    "        \n",
    "        return dscore, dparams"
   ]
  },
  {
   "cell_type": "code",
   "execution_count": 82,
   "metadata": {},
   "outputs": [
    {
     "ename": "RuntimeError",
     "evalue": "bool value of Tensor with more than one value is ambiguous",
     "output_type": "error",
     "traceback": [
      "\u001b[1;31m---------------------------------------------------------------------------\u001b[0m",
      "\u001b[1;31mRuntimeError\u001b[0m                              Traceback (most recent call last)",
      "\u001b[1;32m<ipython-input-82-f5590fe514ae>\u001b[0m in \u001b[0;36m<module>\u001b[1;34m\u001b[0m\n\u001b[0;32m      9\u001b[0m \u001b[1;33m\u001b[0m\u001b[0m\n\u001b[0;32m     10\u001b[0m \u001b[1;31m# krok vypoctu numerickeho gradientu nastavime manualne\u001b[0m\u001b[1;33m\u001b[0m\u001b[1;33m\u001b[0m\u001b[1;33m\u001b[0m\u001b[0m\n\u001b[1;32m---> 11\u001b[1;33m \u001b[0mans\u001b[0m\u001b[1;33m.\u001b[0m\u001b[0mcheck_gradients\u001b[0m\u001b[1;33m(\u001b[0m\u001b[0mrelu_layer\u001b[0m\u001b[1;33m,\u001b[0m \u001b[0mscore\u001b[0m\u001b[1;33m,\u001b[0m \u001b[0mdhidden\u001b[0m\u001b[1;33m,\u001b[0m \u001b[0mh\u001b[0m\u001b[1;33m=\u001b[0m\u001b[1;36m0.01\u001b[0m\u001b[1;33m)\u001b[0m\u001b[1;33m;\u001b[0m\u001b[1;33m\u001b[0m\u001b[1;33m\u001b[0m\u001b[0m\n\u001b[0m",
      "\u001b[1;32m~\\ANS\\working_ans_2019\\ans.py\u001b[0m in \u001b[0;36mcheck_gradients\u001b[1;34m(model, inputs, doutputs, input_names, h)\u001b[0m\n\u001b[0;32m    327\u001b[0m \u001b[1;33m\u001b[0m\u001b[0m\n\u001b[0;32m    328\u001b[0m     \u001b[1;31m# vypocti gradienty analyticky (potencialne s bugy)\u001b[0m\u001b[1;33m\u001b[0m\u001b[1;33m\u001b[0m\u001b[1;33m\u001b[0m\u001b[0m\n\u001b[1;32m--> 329\u001b[1;33m     \u001b[0mout\u001b[0m \u001b[1;33m=\u001b[0m \u001b[0mmodel\u001b[0m\u001b[1;33m.\u001b[0m\u001b[0mforward\u001b[0m\u001b[1;33m(\u001b[0m\u001b[0minputs\u001b[0m\u001b[1;33m)\u001b[0m\u001b[1;33m\u001b[0m\u001b[1;33m\u001b[0m\u001b[0m\n\u001b[0m\u001b[0;32m    330\u001b[0m     \u001b[0mdinputs\u001b[0m\u001b[1;33m,\u001b[0m \u001b[0mdparams\u001b[0m \u001b[1;33m=\u001b[0m \u001b[0mmodel\u001b[0m\u001b[1;33m.\u001b[0m\u001b[0mbackward\u001b[0m\u001b[1;33m(\u001b[0m\u001b[0mdoutputs\u001b[0m\u001b[1;33m)\u001b[0m\u001b[1;33m\u001b[0m\u001b[1;33m\u001b[0m\u001b[0m\n\u001b[0;32m    331\u001b[0m     \u001b[0mgrads\u001b[0m \u001b[1;33m=\u001b[0m \u001b[1;33m{\u001b[0m\u001b[1;34m'inputs'\u001b[0m\u001b[1;33m:\u001b[0m \u001b[0mdinputs\u001b[0m\u001b[1;33m,\u001b[0m \u001b[1;33m**\u001b[0m\u001b[0mdparams\u001b[0m\u001b[1;33m}\u001b[0m\u001b[1;33m\u001b[0m\u001b[1;33m\u001b[0m\u001b[0m\n",
      "\u001b[1;32m<ipython-input-81-3df52f2fad37>\u001b[0m in \u001b[0;36mforward\u001b[1;34m(self, score)\u001b[0m\n\u001b[0;32m      9\u001b[0m         \u001b[1;31m# ZDE DOPLNIT\u001b[0m\u001b[1;33m\u001b[0m\u001b[1;33m\u001b[0m\u001b[1;33m\u001b[0m\u001b[0m\n\u001b[0;32m     10\u001b[0m \u001b[1;33m\u001b[0m\u001b[0m\n\u001b[1;32m---> 11\u001b[1;33m         \u001b[0mhidden\u001b[0m \u001b[1;33m=\u001b[0m \u001b[0mmax\u001b[0m\u001b[1;33m(\u001b[0m\u001b[1;36m0\u001b[0m\u001b[1;33m,\u001b[0m\u001b[0mscore\u001b[0m\u001b[1;33m)\u001b[0m\u001b[1;33m\u001b[0m\u001b[1;33m\u001b[0m\u001b[0m\n\u001b[0m\u001b[0;32m     12\u001b[0m         \u001b[1;31m#self._cache = ...\u001b[0m\u001b[1;33m\u001b[0m\u001b[1;33m\u001b[0m\u001b[1;33m\u001b[0m\u001b[0m\n\u001b[0;32m     13\u001b[0m \u001b[1;33m\u001b[0m\u001b[0m\n",
      "\u001b[1;31mRuntimeError\u001b[0m: bool value of Tensor with more than one value is ambiguous"
     ]
    }
   ],
   "source": [
    "# overime na male davce\n",
    "score = torch.randn(10,10)\n",
    "\n",
    "# \"simulace\" prichoziho gradientu, ktery ma vrstva dale propagovat\n",
    "dhidden = torch.randn(10,10)\n",
    "\n",
    "# instance vrstvy\n",
    "relu_layer = ReLU()\n",
    "\n",
    "# krok vypoctu numerickeho gradientu nastavime manualne\n",
    "ans.check_gradients(relu_layer, score, dhidden, h=0.01);"
   ]
  },
  {
   "cell_type": "markdown",
   "metadata": {},
   "source": [
    "# Konfigurovatelný model vícevrstvého perceptronu (bonusová úloha)"
   ]
  },
  {
   "cell_type": "markdown",
   "metadata": {},
   "source": [
    "Jako bonus navrhněte třídu `FeedForwardNet`, která bude moci mít libovolnou konfiguraci vrstev. Uvažujte pouze jednodušší variantu, kdy vstupem do každé následující vrstvy je výstup vrstvy předchozí. Třída by měla do konstruktoru přijímat pole s vrstvami tak, jak půjdou za sebou v dopředném průchodu. Příklad použití lze vidět v buňce s gradient checkem.\n",
    "\n",
    "Plně propojené neuronové sítě hlubší než několik málo vrstev dlouhou dobu nedosahovaly výkonnosti jiných metod strojového učení (např. rozhodovací stromy či boosting). Jednou z příčin byla nevhodná inicializace parametrů, díky které aktivace neuronů ve vyšších vrstvách mají nevhodné statistické rozložení (viz přednášku) a zpětná propagace gradientu je pak velice obtížná. Pokud síť projde gradient checkem, ale přesto se z dat neučí, hlavním podezřelým bude nejspíše právě inicializace. Pro úspěšné trénování je proto dobré implementovat `xavier` inicializaci ve vrstvě `Linear`."
   ]
  },
  {
   "cell_type": "code",
   "execution_count": null,
   "metadata": {},
   "outputs": [],
   "source": [
    "class FeedForwardNet(ans.Layer):\n",
    "    def __init__(self, layers):\n",
    "        super().__init__()\n",
    "        \n",
    "        self.layers = layers\n",
    "        self.params = {}\n",
    "        \n",
    "        #################################################################\n",
    "        # ZDE DOPLNIT\n",
    "        \n",
    "        # dynamicky z predanych vrstev naplnit slovnik parametru,\n",
    "        # analogicky k postupu z TwoLayerPerceptron\n",
    "        ...\n",
    "        \n",
    "        #################################################################\n",
    "    \n",
    "    def forward(self, inputs):\n",
    "        \n",
    "        #################################################################\n",
    "        # ZDE DOPLNIT\n",
    "        \n",
    "        # dopredny pruchod je jednoduchy, jen se jednotlive vrstvy zavolaji\n",
    "        # tak, jak jdou za sebou\n",
    "            \n",
    "        #################################################################\n",
    "        \n",
    "        return score\n",
    "    \n",
    "    def backward(self, dscore):\n",
    "        \n",
    "        #################################################################\n",
    "        # ZDE DOPLNIT\n",
    "        \n",
    "        # vrstvy se musi projit v obracenem poradi a postupne volat jejich\n",
    "        # zpetne pruchody, dokud nedojdeme az zpet na vstup\n",
    "        \n",
    "        #################################################################\n",
    "        \n",
    "        return dinputs, dparams"
   ]
  },
  {
   "cell_type": "code",
   "execution_count": null,
   "metadata": {
    "scrolled": false
   },
   "outputs": [],
   "source": [
    "inputs = torch.randn(10, 8)\n",
    "dscore = torch.randn(10, 3)\n",
    "relu_layer = FeedForwardNet([\n",
    "    Linear(8, 6),\n",
    "    Sigmoid(),\n",
    "    Linear(6, 5),\n",
    "    Sigmoid(),\n",
    "    Linear(5, 3)\n",
    "])\n",
    "ans.check_gradients(relu_layer, inputs, dscore);"
   ]
  },
  {
   "cell_type": "code",
   "execution_count": null,
   "metadata": {},
   "outputs": [],
   "source": [
    "mlp_model = FeedForwardNet([\n",
    "    Linear(...),\n",
    "    ReLU(),\n",
    "    Linear(...),\n",
    "    ReLU(),\n",
    "    Linear(...)\n",
    "    # libovolne lze pokracovat\n",
    "])\n",
    "\n",
    "sce = SoftmaxCrossEntropy()\n",
    "\n",
    "train_loader = ans.BatchLoader(X_train, y_train, ..., 'train', shuffle=True)\n",
    "valid_loader = ans.BatchLoader(X_valid, y_valid, ..., 'valid', shuffle=True)\n",
    "\n",
    "optimizer = ans.SGD(mlp_model.params, learning_rate=..., weight_decay_l2=...)\n",
    "\n",
    "mlp_stats = ans.Stats()"
   ]
  },
  {
   "cell_type": "code",
   "execution_count": null,
   "metadata": {},
   "outputs": [],
   "source": [
    "for ep in range(2):\n",
    "    mlp_stats.new_epoch()\n",
    "    ans.train(mlp_model, sce, train_loader, optimizer, mlp_stats)\n",
    "    ans.validate(mlp_model, sce, valid_loader, mlp_stats)"
   ]
  },
  {
   "cell_type": "code",
   "execution_count": null,
   "metadata": {
    "scrolled": false
   },
   "outputs": [],
   "source": [
    "mlp_stats.best_results()"
   ]
  },
  {
   "cell_type": "code",
   "execution_count": null,
   "metadata": {
    "scrolled": true
   },
   "outputs": [],
   "source": [
    "mlp_stats.plot_by_epoch()"
   ]
  },
  {
   "cell_type": "code",
   "execution_count": null,
   "metadata": {},
   "outputs": [],
   "source": [
    "mlp_stats.plot_by_batch(block_len=10)"
   ]
  }
 ],
 "metadata": {
  "kernelspec": {
   "display_name": "Python 3",
   "language": "python",
   "name": "python3"
  },
  "language_info": {
   "codemirror_mode": {
    "name": "ipython",
    "version": 3
   },
   "file_extension": ".py",
   "mimetype": "text/x-python",
   "name": "python",
   "nbconvert_exporter": "python",
   "pygments_lexer": "ipython3",
   "version": "3.7.1"
  },
  "widgets": {
   "application/vnd.jupyter.widget-state+json": {
    "state": {
     "017169b6be4c46c38ff0f42de55bd07c": {
      "model_module": "@jupyter-widgets/controls",
      "model_module_version": "1.4.0",
      "model_name": "ProgressStyleModel",
      "state": {
       "description_width": "initial"
      }
     },
     "01f53adafa164b789457acc821358101": {
      "model_module": "@jupyter-widgets/controls",
      "model_module_version": "1.4.0",
      "model_name": "ProgressStyleModel",
      "state": {
       "description_width": "initial"
      }
     },
     "0290775fd5824fda8c6065fc29af790d": {
      "model_module": "@jupyter-widgets/base",
      "model_module_version": "1.1.0",
      "model_name": "LayoutModel",
      "state": {}
     },
     "04e34e8042fd47689a054972c0cd9675": {
      "model_module": "@jupyter-widgets/base",
      "model_module_version": "1.1.0",
      "model_name": "LayoutModel",
      "state": {}
     },
     "07805824de234a99b5755fbad539e025": {
      "model_module": "@jupyter-widgets/controls",
      "model_module_version": "1.4.0",
      "model_name": "HTMLModel",
      "state": {
       "layout": "IPY_MODEL_ee9c1301c32b426e9d5de976911affee",
       "style": "IPY_MODEL_bf7a32a095e84eb28f52a90b3700df23",
       "value": "100% 100/100 [00:00&lt;00:00, 259.07it/s, acc=0.308, loss=2.046]"
      }
     },
     "07e6423730a94a4f81e33b797fe0eea2": {
      "model_module": "@jupyter-widgets/controls",
      "model_module_version": "1.4.0",
      "model_name": "ProgressStyleModel",
      "state": {
       "description_width": "initial"
      }
     },
     "08685c6985854ae3881e18dc3d0e91b9": {
      "model_module": "@jupyter-widgets/base",
      "model_module_version": "1.1.0",
      "model_name": "LayoutModel",
      "state": {}
     },
     "0a2c0f1494bb4e339cb90b81cf6b3d32": {
      "model_module": "@jupyter-widgets/controls",
      "model_module_version": "1.4.0",
      "model_name": "ProgressStyleModel",
      "state": {
       "description_width": "initial"
      }
     },
     "0ca76083139c4e1d9bf48f51dd4e9aa9": {
      "model_module": "@jupyter-widgets/controls",
      "model_module_version": "1.4.0",
      "model_name": "HTMLModel",
      "state": {
       "layout": "IPY_MODEL_83effc3cf492428b9bd84d406466c951",
       "style": "IPY_MODEL_cea80299ad274a28abfbfe91b82f5187",
       "value": "100% 400/400 [00:02&lt;00:00, 174.07it/s, acc=0.313, loss=2.047]"
      }
     },
     "0eae77fe1ee4407cb5a63adac5d2b3f1": {
      "model_module": "@jupyter-widgets/base",
      "model_module_version": "1.1.0",
      "model_name": "LayoutModel",
      "state": {}
     },
     "11c0eac947b144889293661d86d55493": {
      "model_module": "@jupyter-widgets/controls",
      "model_module_version": "1.4.0",
      "model_name": "HTMLModel",
      "state": {
       "layout": "IPY_MODEL_d013035657f5491f80a5b9bd2d798c5b",
       "style": "IPY_MODEL_adb6d21fb9db45dbb9eedd2ac4c180a5",
       "value": "100% 100/100 [00:00&lt;00:00, 248.15it/s, acc=0.280, loss=2.125]"
      }
     },
     "11ccef3dd1034b77a6641f9d8e2c6356": {
      "model_module": "@jupyter-widgets/controls",
      "model_module_version": "1.4.0",
      "model_name": "IntProgressModel",
      "state": {
       "bar_style": "success",
       "description": "epoch 06",
       "layout": "IPY_MODEL_5af6ca48a7f040418afea66ed17d9b6d",
       "style": "IPY_MODEL_5ceea3c40f8a41deb52a3bc420a17bca",
       "value": 100
      }
     },
     "11e57462b20a40288bdf893b9e5681ff": {
      "model_module": "@jupyter-widgets/controls",
      "model_module_version": "1.4.0",
      "model_name": "DescriptionStyleModel",
      "state": {
       "description_width": ""
      }
     },
     "11eb0833fbe44064950b38fb9870f6b8": {
      "model_module": "@jupyter-widgets/controls",
      "model_module_version": "1.4.0",
      "model_name": "HBoxModel",
      "state": {
       "children": [
        "IPY_MODEL_5673d8ceeafc42bbbc14722e43e0f5fa",
        "IPY_MODEL_07805824de234a99b5755fbad539e025"
       ],
       "layout": "IPY_MODEL_0eae77fe1ee4407cb5a63adac5d2b3f1"
      }
     },
     "12b1706932be4eba898457fce4e243bc": {
      "model_module": "@jupyter-widgets/controls",
      "model_module_version": "1.4.0",
      "model_name": "ProgressStyleModel",
      "state": {
       "description_width": "initial"
      }
     },
     "16a406928eff444f92a5e0dbf39a0d41": {
      "model_module": "@jupyter-widgets/base",
      "model_module_version": "1.1.0",
      "model_name": "LayoutModel",
      "state": {}
     },
     "1a370663feb043a8a3b3a2e9d426331b": {
      "model_module": "@jupyter-widgets/base",
      "model_module_version": "1.1.0",
      "model_name": "LayoutModel",
      "state": {}
     },
     "1beccd530058487d95ce2210d2a998ed": {
      "model_module": "@jupyter-widgets/controls",
      "model_module_version": "1.4.0",
      "model_name": "HBoxModel",
      "state": {
       "children": [
        "IPY_MODEL_3e5438044bc64312bb2cc91d561d4027",
        "IPY_MODEL_11c0eac947b144889293661d86d55493"
       ],
       "layout": "IPY_MODEL_b300f1c845394915b175aa2572153e78"
      }
     },
     "1c11f6379291471fb299e06b54e661ff": {
      "model_module": "@jupyter-widgets/base",
      "model_module_version": "1.1.0",
      "model_name": "LayoutModel",
      "state": {}
     },
     "1d9eca5305dc4b6a907e4e22debdc534": {
      "model_module": "@jupyter-widgets/controls",
      "model_module_version": "1.4.0",
      "model_name": "ProgressStyleModel",
      "state": {
       "description_width": "initial"
      }
     },
     "1e78e36f39c445f99d30cb2b68247568": {
      "model_module": "@jupyter-widgets/controls",
      "model_module_version": "1.4.0",
      "model_name": "IntProgressModel",
      "state": {
       "bar_style": "success",
       "description": "epoch 04",
       "layout": "IPY_MODEL_7b8579a62d2e4cfd8e48dfad611eb74f",
       "style": "IPY_MODEL_54b1d2ff71d24f4a8af1749966d963ee",
       "value": 100
      }
     },
     "22cff9716c2e4c9d90f5f01c23cd10e3": {
      "model_module": "@jupyter-widgets/controls",
      "model_module_version": "1.4.0",
      "model_name": "IntProgressModel",
      "state": {
       "bar_style": "success",
       "description": "epoch 10",
       "layout": "IPY_MODEL_0290775fd5824fda8c6065fc29af790d",
       "max": 400,
       "style": "IPY_MODEL_1d9eca5305dc4b6a907e4e22debdc534",
       "value": 400
      }
     },
     "28b7ef90b719487eb40624d2778e8baf": {
      "model_module": "@jupyter-widgets/controls",
      "model_module_version": "1.4.0",
      "model_name": "IntProgressModel",
      "state": {
       "bar_style": "success",
       "description": "epoch 08",
       "layout": "IPY_MODEL_d50d073eb8604bacb15660f15ec32977",
       "style": "IPY_MODEL_a3e0df98a1e04da1915c4110e8a57425",
       "value": 100
      }
     },
     "2a0ff47fb8c64bf9b961d9e35066f957": {
      "model_module": "@jupyter-widgets/base",
      "model_module_version": "1.1.0",
      "model_name": "LayoutModel",
      "state": {}
     },
     "2a1d80bdd25b4304850e13dfb80de86c": {
      "model_module": "@jupyter-widgets/controls",
      "model_module_version": "1.4.0",
      "model_name": "HBoxModel",
      "state": {
       "children": [
        "IPY_MODEL_43b6c367efe645348c503fdd993ba411",
        "IPY_MODEL_43ee58e862004b5abe08070634653cb3"
       ],
       "layout": "IPY_MODEL_344469a6bb4e4baf8467da03c703ec2e"
      }
     },
     "2c0ab22aa80d4b7bb4f4e69ac398914f": {
      "model_module": "@jupyter-widgets/base",
      "model_module_version": "1.1.0",
      "model_name": "LayoutModel",
      "state": {}
     },
     "2f860a37d90b4f4a8710dbdba2759074": {
      "model_module": "@jupyter-widgets/base",
      "model_module_version": "1.1.0",
      "model_name": "LayoutModel",
      "state": {}
     },
     "319bea1faa124c7297bb1a12d5c9b565": {
      "model_module": "@jupyter-widgets/controls",
      "model_module_version": "1.4.0",
      "model_name": "ProgressStyleModel",
      "state": {
       "description_width": "initial"
      }
     },
     "3228f25c8cdd445a95336724c981f2a8": {
      "model_module": "@jupyter-widgets/base",
      "model_module_version": "1.1.0",
      "model_name": "LayoutModel",
      "state": {}
     },
     "32bb29e328964bb3836527929cd80009": {
      "model_module": "@jupyter-widgets/base",
      "model_module_version": "1.1.0",
      "model_name": "LayoutModel",
      "state": {}
     },
     "344469a6bb4e4baf8467da03c703ec2e": {
      "model_module": "@jupyter-widgets/base",
      "model_module_version": "1.1.0",
      "model_name": "LayoutModel",
      "state": {}
     },
     "34fc8e7dae01446280b57e004d8b617b": {
      "model_module": "@jupyter-widgets/controls",
      "model_module_version": "1.4.0",
      "model_name": "HBoxModel",
      "state": {
       "children": [
        "IPY_MODEL_d96e844c3b0d4efe9b6be61d894ba41c",
        "IPY_MODEL_859b17a4c5db49a28d6458aca6f5a881"
       ],
       "layout": "IPY_MODEL_9b7fc21ec9044b2fa155780cf825d3d8"
      }
     },
     "3d02398902434354b733b569449ea752": {
      "model_module": "@jupyter-widgets/controls",
      "model_module_version": "1.4.0",
      "model_name": "HBoxModel",
      "state": {
       "children": [
        "IPY_MODEL_41a0220f424f4ca7bef550a52cfb5449",
        "IPY_MODEL_402daeb4941c415eb098dd6c2da01527"
       ],
       "layout": "IPY_MODEL_e9c0c0dee9f445dd8da5e7f9a1c1837f"
      }
     },
     "3d80ad00fff145819b89f7b800c8405b": {
      "model_module": "@jupyter-widgets/base",
      "model_module_version": "1.1.0",
      "model_name": "LayoutModel",
      "state": {}
     },
     "3db0378da39f45de94bf8e583cdb08db": {
      "model_module": "@jupyter-widgets/controls",
      "model_module_version": "1.4.0",
      "model_name": "HTMLModel",
      "state": {
       "layout": "IPY_MODEL_b52849703d414103b0ad483eee715abc",
       "style": "IPY_MODEL_47724d49f8e64d48b75c22259b104526",
       "value": "100% 100/100 [00:00&lt;00:00, 266.67it/s, acc=0.268, loss=2.152]"
      }
     },
     "3e5438044bc64312bb2cc91d561d4027": {
      "model_module": "@jupyter-widgets/controls",
      "model_module_version": "1.4.0",
      "model_name": "IntProgressModel",
      "state": {
       "bar_style": "success",
       "description": "epoch 05",
       "layout": "IPY_MODEL_c1fd59a8f3554c8488858c99e2d34a30",
       "style": "IPY_MODEL_5f821584f90e483fa08c881e65bb855d",
       "value": 100
      }
     },
     "3f90e04a3e9448f382f4c5ab6fe4dd84": {
      "model_module": "@jupyter-widgets/base",
      "model_module_version": "1.1.0",
      "model_name": "LayoutModel",
      "state": {}
     },
     "3fbc05251cdd485e8fb5f53a661b49ff": {
      "model_module": "@jupyter-widgets/base",
      "model_module_version": "1.1.0",
      "model_name": "LayoutModel",
      "state": {}
     },
     "402daeb4941c415eb098dd6c2da01527": {
      "model_module": "@jupyter-widgets/controls",
      "model_module_version": "1.4.0",
      "model_name": "HTMLModel",
      "state": {
       "layout": "IPY_MODEL_2c0ab22aa80d4b7bb4f4e69ac398914f",
       "style": "IPY_MODEL_731c61b849874a81bf0410593d9bc4cd",
       "value": "100% 400/400 [00:02&lt;00:00, 178.62it/s, acc=0.306, loss=2.064]"
      }
     },
     "409ade54a4e349fab05d69512acdceec": {
      "model_module": "@jupyter-widgets/controls",
      "model_module_version": "1.4.0",
      "model_name": "IntProgressModel",
      "state": {
       "bar_style": "success",
       "description": "epoch 09",
       "layout": "IPY_MODEL_04e34e8042fd47689a054972c0cd9675",
       "max": 400,
       "style": "IPY_MODEL_ad79810743b74d248ae530a69035ba1e",
       "value": 400
      }
     },
     "41a0220f424f4ca7bef550a52cfb5449": {
      "model_module": "@jupyter-widgets/controls",
      "model_module_version": "1.4.0",
      "model_name": "IntProgressModel",
      "state": {
       "bar_style": "success",
       "description": "epoch 08",
       "layout": "IPY_MODEL_b96a1e5abd324879a3f9550fb7d1f6aa",
       "max": 400,
       "style": "IPY_MODEL_d4ece6de25f0482e948e910a1a3cf56c",
       "value": 400
      }
     },
     "43b6c367efe645348c503fdd993ba411": {
      "model_module": "@jupyter-widgets/controls",
      "model_module_version": "1.4.0",
      "model_name": "IntProgressModel",
      "state": {
       "bar_style": "success",
       "description": "epoch 03",
       "layout": "IPY_MODEL_3d80ad00fff145819b89f7b800c8405b",
       "max": 400,
       "style": "IPY_MODEL_017169b6be4c46c38ff0f42de55bd07c",
       "value": 400
      }
     },
     "43ee58e862004b5abe08070634653cb3": {
      "model_module": "@jupyter-widgets/controls",
      "model_module_version": "1.4.0",
      "model_name": "HTMLModel",
      "state": {
       "layout": "IPY_MODEL_7d228cd6b9604b54bdaf8cb7e37dd08c",
       "style": "IPY_MODEL_8d4bba56c2154d95b5c9dee6a94ff091",
       "value": "100% 400/400 [00:02&lt;00:00, 161.35it/s, acc=0.266, loss=2.170]"
      }
     },
     "448b985f5a8e4ebeb4b0f442d4b8bd6f": {
      "model_module": "@jupyter-widgets/base",
      "model_module_version": "1.1.0",
      "model_name": "LayoutModel",
      "state": {}
     },
     "45ca31f67e544c63b0a55fde9a02f7c1": {
      "model_module": "@jupyter-widgets/base",
      "model_module_version": "1.1.0",
      "model_name": "LayoutModel",
      "state": {}
     },
     "46fedb570c2245bb9046fc37cf0f0164": {
      "model_module": "@jupyter-widgets/controls",
      "model_module_version": "1.4.0",
      "model_name": "ProgressStyleModel",
      "state": {
       "description_width": "initial"
      }
     },
     "47724d49f8e64d48b75c22259b104526": {
      "model_module": "@jupyter-widgets/controls",
      "model_module_version": "1.4.0",
      "model_name": "DescriptionStyleModel",
      "state": {
       "description_width": ""
      }
     },
     "4a06c465abcd42b68993701f27d89d78": {
      "model_module": "@jupyter-widgets/controls",
      "model_module_version": "1.4.0",
      "model_name": "IntProgressModel",
      "state": {
       "bar_style": "success",
       "description": "epoch 07",
       "layout": "IPY_MODEL_fbc70b62edda4bbeb0ba721e7e338846",
       "style": "IPY_MODEL_d829e769849f4797a44a5b1f26e24cb1",
       "value": 100
      }
     },
     "4eaa54060c4f43fa9332c6a7f5c7a732": {
      "model_module": "@jupyter-widgets/controls",
      "model_module_version": "1.4.0",
      "model_name": "HBoxModel",
      "state": {
       "children": [
        "IPY_MODEL_ec634e2eb25d4c5eaf66ea0f9e6d69c4",
        "IPY_MODEL_e139e504455b4722b57fc98e8104815b"
       ],
       "layout": "IPY_MODEL_741c81aa79684b76a9aff4dac6316598"
      }
     },
     "4eb2c7519c7c4fafb4421906658da267": {
      "model_module": "@jupyter-widgets/controls",
      "model_module_version": "1.4.0",
      "model_name": "HTMLModel",
      "state": {
       "layout": "IPY_MODEL_807b4fe69e164da29e958e4a20661907",
       "style": "IPY_MODEL_682d1274a83941f9895e3db8a8f7c9eb",
       "value": "100% 400/400 [00:02&lt;00:00, 174.26it/s, acc=0.296, loss=2.093]"
      }
     },
     "5097555472c748f5a792c0a3be819c17": {
      "model_module": "@jupyter-widgets/controls",
      "model_module_version": "1.4.0",
      "model_name": "DescriptionStyleModel",
      "state": {
       "description_width": ""
      }
     },
     "53c9c30a3eaf44c0832aaa85cfa572bd": {
      "model_module": "@jupyter-widgets/base",
      "model_module_version": "1.1.0",
      "model_name": "LayoutModel",
      "state": {}
     },
     "53cfb6bd5aab428896d608e583491029": {
      "model_module": "@jupyter-widgets/base",
      "model_module_version": "1.1.0",
      "model_name": "LayoutModel",
      "state": {}
     },
     "545a51a140894193b836e6a7e1c7b46d": {
      "model_module": "@jupyter-widgets/base",
      "model_module_version": "1.1.0",
      "model_name": "LayoutModel",
      "state": {}
     },
     "548c6fcaf73447f9b56dfd6a18086b53": {
      "model_module": "@jupyter-widgets/controls",
      "model_module_version": "1.4.0",
      "model_name": "HBoxModel",
      "state": {
       "children": [
        "IPY_MODEL_409ade54a4e349fab05d69512acdceec",
        "IPY_MODEL_0ca76083139c4e1d9bf48f51dd4e9aa9"
       ],
       "layout": "IPY_MODEL_2a0ff47fb8c64bf9b961d9e35066f957"
      }
     },
     "54b1d2ff71d24f4a8af1749966d963ee": {
      "model_module": "@jupyter-widgets/controls",
      "model_module_version": "1.4.0",
      "model_name": "ProgressStyleModel",
      "state": {
       "description_width": "initial"
      }
     },
     "557eeced24e14a938a0094767cf7d6ef": {
      "model_module": "@jupyter-widgets/base",
      "model_module_version": "1.1.0",
      "model_name": "LayoutModel",
      "state": {}
     },
     "564a19930f8840a180a9772eba6722ab": {
      "model_module": "@jupyter-widgets/controls",
      "model_module_version": "1.4.0",
      "model_name": "HTMLModel",
      "state": {
       "layout": "IPY_MODEL_3f90e04a3e9448f382f4c5ab6fe4dd84",
       "style": "IPY_MODEL_89ff36064ed14ad8bdc1fe30479e9c0f",
       "value": "100% 400/400 [00:02&lt;00:00, 176.55it/s, acc=0.322, loss=2.035]"
      }
     },
     "5673d8ceeafc42bbbc14722e43e0f5fa": {
      "model_module": "@jupyter-widgets/controls",
      "model_module_version": "1.4.0",
      "model_name": "IntProgressModel",
      "state": {
       "bar_style": "success",
       "description": "epoch 10",
       "layout": "IPY_MODEL_5ef45ec35e71479fb11fbf3971aa4733",
       "style": "IPY_MODEL_9086f74ef56345668e72cb22744028cf",
       "value": 100
      }
     },
     "57c180b68a3146b180e4437ca6f28974": {
      "model_module": "@jupyter-widgets/base",
      "model_module_version": "1.1.0",
      "model_name": "LayoutModel",
      "state": {}
     },
     "5af6ca48a7f040418afea66ed17d9b6d": {
      "model_module": "@jupyter-widgets/base",
      "model_module_version": "1.1.0",
      "model_name": "LayoutModel",
      "state": {}
     },
     "5b2538f7a6c446a883bb971a370c7bb8": {
      "model_module": "@jupyter-widgets/base",
      "model_module_version": "1.1.0",
      "model_name": "LayoutModel",
      "state": {}
     },
     "5ceea3c40f8a41deb52a3bc420a17bca": {
      "model_module": "@jupyter-widgets/controls",
      "model_module_version": "1.4.0",
      "model_name": "ProgressStyleModel",
      "state": {
       "description_width": "initial"
      }
     },
     "5ef45ec35e71479fb11fbf3971aa4733": {
      "model_module": "@jupyter-widgets/base",
      "model_module_version": "1.1.0",
      "model_name": "LayoutModel",
      "state": {}
     },
     "5f821584f90e483fa08c881e65bb855d": {
      "model_module": "@jupyter-widgets/controls",
      "model_module_version": "1.4.0",
      "model_name": "ProgressStyleModel",
      "state": {
       "description_width": "initial"
      }
     },
     "62ceddab7986432297f30d7a851b23c0": {
      "model_module": "@jupyter-widgets/controls",
      "model_module_version": "1.4.0",
      "model_name": "HTMLModel",
      "state": {
       "layout": "IPY_MODEL_ead6e12ea5bc457fad3be0ccf903b822",
       "style": "IPY_MODEL_5097555472c748f5a792c0a3be819c17",
       "value": "100% 400/400 [00:02&lt;00:00, 149.95it/s, acc=0.172, loss=2.256]"
      }
     },
     "63e47b5ed7ab4ad188d42cfa85019332": {
      "model_module": "@jupyter-widgets/controls",
      "model_module_version": "1.4.0",
      "model_name": "HTMLModel",
      "state": {
       "layout": "IPY_MODEL_b8a6315121f4468e8d9a3f3984d08aac",
       "style": "IPY_MODEL_d51ed7be205845dfbc3c27fd907020b0",
       "value": "100% 100/100 [00:00&lt;00:00, 228.84it/s, acc=0.223, loss=2.213]"
      }
     },
     "671999d2e08348d9a6bd97ed40fbaee3": {
      "model_module": "@jupyter-widgets/controls",
      "model_module_version": "1.4.0",
      "model_name": "HTMLModel",
      "state": {
       "layout": "IPY_MODEL_57c180b68a3146b180e4437ca6f28974",
       "style": "IPY_MODEL_8e60d6d75bf14081ac9bba0f930aaed4",
       "value": "100% 100/100 [00:00&lt;00:00, 266.67it/s, acc=0.286, loss=2.105]"
      }
     },
     "682d1274a83941f9895e3db8a8f7c9eb": {
      "model_module": "@jupyter-widgets/controls",
      "model_module_version": "1.4.0",
      "model_name": "DescriptionStyleModel",
      "state": {
       "description_width": ""
      }
     },
     "69b7fc0b75464723b37a9d86cc02b9f8": {
      "model_module": "@jupyter-widgets/controls",
      "model_module_version": "1.4.0",
      "model_name": "DescriptionStyleModel",
      "state": {
       "description_width": ""
      }
     },
     "731c61b849874a81bf0410593d9bc4cd": {
      "model_module": "@jupyter-widgets/controls",
      "model_module_version": "1.4.0",
      "model_name": "DescriptionStyleModel",
      "state": {
       "description_width": ""
      }
     },
     "741c81aa79684b76a9aff4dac6316598": {
      "model_module": "@jupyter-widgets/base",
      "model_module_version": "1.1.0",
      "model_name": "LayoutModel",
      "state": {}
     },
     "74e372acd25c47c48813785e6d13624e": {
      "model_module": "@jupyter-widgets/base",
      "model_module_version": "1.1.0",
      "model_name": "LayoutModel",
      "state": {}
     },
     "7a8c9ac979224312b9c19c5852cc0f25": {
      "model_module": "@jupyter-widgets/controls",
      "model_module_version": "1.4.0",
      "model_name": "HBoxModel",
      "state": {
       "children": [
        "IPY_MODEL_a4d1aa26e6d64a14956f5a337635931b",
        "IPY_MODEL_8d2d620357b945089ba9b6197a7317aa"
       ],
       "layout": "IPY_MODEL_a00eeebe7aba47ed883a14cbee1ff97f"
      }
     },
     "7b8579a62d2e4cfd8e48dfad611eb74f": {
      "model_module": "@jupyter-widgets/base",
      "model_module_version": "1.1.0",
      "model_name": "LayoutModel",
      "state": {}
     },
     "7be73a25e87f4e3fbe22d32ab0a293e3": {
      "model_module": "@jupyter-widgets/base",
      "model_module_version": "1.1.0",
      "model_name": "LayoutModel",
      "state": {}
     },
     "7cdc272ad4ca44d8b562d9275486e31e": {
      "model_module": "@jupyter-widgets/controls",
      "model_module_version": "1.4.0",
      "model_name": "HTMLModel",
      "state": {
       "layout": "IPY_MODEL_53c9c30a3eaf44c0832aaa85cfa572bd",
       "style": "IPY_MODEL_9d6b7ade3c274a3f92edda4c9a18cfbd",
       "value": "100% 100/100 [00:00&lt;00:00, 240.97it/s, acc=0.307, loss=2.057]"
      }
     },
     "7d228cd6b9604b54bdaf8cb7e37dd08c": {
      "model_module": "@jupyter-widgets/base",
      "model_module_version": "1.1.0",
      "model_name": "LayoutModel",
      "state": {}
     },
     "7e38f73484cc472ebe5cfbded58b6947": {
      "model_module": "@jupyter-widgets/base",
      "model_module_version": "1.1.0",
      "model_name": "LayoutModel",
      "state": {}
     },
     "807b4fe69e164da29e958e4a20661907": {
      "model_module": "@jupyter-widgets/base",
      "model_module_version": "1.1.0",
      "model_name": "LayoutModel",
      "state": {}
     },
     "810c3c75dbec4eec8d76785fa86e40d7": {
      "model_module": "@jupyter-widgets/controls",
      "model_module_version": "1.4.0",
      "model_name": "DescriptionStyleModel",
      "state": {
       "description_width": ""
      }
     },
     "81b02557839d4d539a381f3634e45251": {
      "model_module": "@jupyter-widgets/base",
      "model_module_version": "1.1.0",
      "model_name": "LayoutModel",
      "state": {}
     },
     "83effc3cf492428b9bd84d406466c951": {
      "model_module": "@jupyter-widgets/base",
      "model_module_version": "1.1.0",
      "model_name": "LayoutModel",
      "state": {}
     },
     "859b17a4c5db49a28d6458aca6f5a881": {
      "model_module": "@jupyter-widgets/controls",
      "model_module_version": "1.4.0",
      "model_name": "HTMLModel",
      "state": {
       "layout": "IPY_MODEL_8f8eac81a9db46c385f7acffa13adbde",
       "style": "IPY_MODEL_69b7fc0b75464723b37a9d86cc02b9f8",
       "value": "100% 100/100 [00:00&lt;00:00, 229.36it/s, acc=0.187, loss=2.238]"
      }
     },
     "89c70abdae9f4e8e848dbfba799fc1ab": {
      "model_module": "@jupyter-widgets/controls",
      "model_module_version": "1.4.0",
      "model_name": "HBoxModel",
      "state": {
       "children": [
        "IPY_MODEL_1e78e36f39c445f99d30cb2b68247568",
        "IPY_MODEL_3db0378da39f45de94bf8e583cdb08db"
       ],
       "layout": "IPY_MODEL_16a406928eff444f92a5e0dbf39a0d41"
      }
     },
     "89ff36064ed14ad8bdc1fe30479e9c0f": {
      "model_module": "@jupyter-widgets/controls",
      "model_module_version": "1.4.0",
      "model_name": "DescriptionStyleModel",
      "state": {
       "description_width": ""
      }
     },
     "8d2d620357b945089ba9b6197a7317aa": {
      "model_module": "@jupyter-widgets/controls",
      "model_module_version": "1.4.0",
      "model_name": "HTMLModel",
      "state": {
       "layout": "IPY_MODEL_f2a5e615126b4c018b19ef061ed57cce",
       "style": "IPY_MODEL_e19840dc133b4027bb982634262d4848",
       "value": "100% 400/400 [00:02&lt;00:00, 151.88it/s, acc=0.235, loss=2.208]"
      }
     },
     "8d4bba56c2154d95b5c9dee6a94ff091": {
      "model_module": "@jupyter-widgets/controls",
      "model_module_version": "1.4.0",
      "model_name": "DescriptionStyleModel",
      "state": {
       "description_width": ""
      }
     },
     "8e60d6d75bf14081ac9bba0f930aaed4": {
      "model_module": "@jupyter-widgets/controls",
      "model_module_version": "1.4.0",
      "model_name": "DescriptionStyleModel",
      "state": {
       "description_width": ""
      }
     },
     "8f8eac81a9db46c385f7acffa13adbde": {
      "model_module": "@jupyter-widgets/base",
      "model_module_version": "1.1.0",
      "model_name": "LayoutModel",
      "state": {}
     },
     "9086f74ef56345668e72cb22744028cf": {
      "model_module": "@jupyter-widgets/controls",
      "model_module_version": "1.4.0",
      "model_name": "ProgressStyleModel",
      "state": {
       "description_width": "initial"
      }
     },
     "96e3400edd34475d890190b016495a27": {
      "model_module": "@jupyter-widgets/base",
      "model_module_version": "1.1.0",
      "model_name": "LayoutModel",
      "state": {}
     },
     "97fbe3c9ae154fd38debd9742a6f6d56": {
      "model_module": "@jupyter-widgets/controls",
      "model_module_version": "1.4.0",
      "model_name": "IntProgressModel",
      "state": {
       "bar_style": "success",
       "description": "epoch 02",
       "layout": "IPY_MODEL_e866ba42fe444f28a6d14cc1e9d661af",
       "style": "IPY_MODEL_07e6423730a94a4f81e33b797fe0eea2",
       "value": 100
      }
     },
     "9854b6da815b43e0888b686eb34b8ce0": {
      "model_module": "@jupyter-widgets/base",
      "model_module_version": "1.1.0",
      "model_name": "LayoutModel",
      "state": {}
     },
     "9aeab4f0078b42ce92b7dcce69dec810": {
      "model_module": "@jupyter-widgets/controls",
      "model_module_version": "1.4.0",
      "model_name": "IntProgressModel",
      "state": {
       "bar_style": "success",
       "description": "epoch 01",
       "layout": "IPY_MODEL_32bb29e328964bb3836527929cd80009",
       "max": 400,
       "style": "IPY_MODEL_01f53adafa164b789457acc821358101",
       "value": 400
      }
     },
     "9b7fc21ec9044b2fa155780cf825d3d8": {
      "model_module": "@jupyter-widgets/base",
      "model_module_version": "1.1.0",
      "model_name": "LayoutModel",
      "state": {}
     },
     "9d66f55e76654ad0aa62b9066c040400": {
      "model_module": "@jupyter-widgets/controls",
      "model_module_version": "1.4.0",
      "model_name": "HBoxModel",
      "state": {
       "children": [
        "IPY_MODEL_c81d72af75814e19861330a815f2b9a2",
        "IPY_MODEL_d6ed9a82817f49b0a6b844ff9c40d8be"
       ],
       "layout": "IPY_MODEL_5b2538f7a6c446a883bb971a370c7bb8"
      }
     },
     "9d6b7ade3c274a3f92edda4c9a18cfbd": {
      "model_module": "@jupyter-widgets/controls",
      "model_module_version": "1.4.0",
      "model_name": "DescriptionStyleModel",
      "state": {
       "description_width": ""
      }
     },
     "9fb7a8a2306e4a73bfc1db14da6392b9": {
      "model_module": "@jupyter-widgets/controls",
      "model_module_version": "1.4.0",
      "model_name": "HBoxModel",
      "state": {
       "children": [
        "IPY_MODEL_9aeab4f0078b42ce92b7dcce69dec810",
        "IPY_MODEL_62ceddab7986432297f30d7a851b23c0"
       ],
       "layout": "IPY_MODEL_b1455beaeabd478e9030d540362125ee"
      }
     },
     "a00eeebe7aba47ed883a14cbee1ff97f": {
      "model_module": "@jupyter-widgets/base",
      "model_module_version": "1.1.0",
      "model_name": "LayoutModel",
      "state": {}
     },
     "a36ce9e82ca948c8ab4b0da1b5612c20": {
      "model_module": "@jupyter-widgets/controls",
      "model_module_version": "1.4.0",
      "model_name": "HBoxModel",
      "state": {
       "children": [
        "IPY_MODEL_4a06c465abcd42b68993701f27d89d78",
        "IPY_MODEL_f7a7e1cb1aeb4971890b53f799a318fb"
       ],
       "layout": "IPY_MODEL_7be73a25e87f4e3fbe22d32ab0a293e3"
      }
     },
     "a3e0df98a1e04da1915c4110e8a57425": {
      "model_module": "@jupyter-widgets/controls",
      "model_module_version": "1.4.0",
      "model_name": "ProgressStyleModel",
      "state": {
       "description_width": "initial"
      }
     },
     "a4d1aa26e6d64a14956f5a337635931b": {
      "model_module": "@jupyter-widgets/controls",
      "model_module_version": "1.4.0",
      "model_name": "IntProgressModel",
      "state": {
       "bar_style": "success",
       "description": "epoch 02",
       "layout": "IPY_MODEL_f04126ed82be48839462ddec5601b702",
       "max": 400,
       "style": "IPY_MODEL_a8054cc88e344c3bb6cfc4efc4e5bf3f",
       "value": 400
      }
     },
     "a6d4616d61a24397a3228d9f08b879e6": {
      "model_module": "@jupyter-widgets/controls",
      "model_module_version": "1.4.0",
      "model_name": "DescriptionStyleModel",
      "state": {
       "description_width": ""
      }
     },
     "a8054cc88e344c3bb6cfc4efc4e5bf3f": {
      "model_module": "@jupyter-widgets/controls",
      "model_module_version": "1.4.0",
      "model_name": "ProgressStyleModel",
      "state": {
       "description_width": "initial"
      }
     },
     "aafcc0106a88439991a6bc8685f1b6c5": {
      "model_module": "@jupyter-widgets/controls",
      "model_module_version": "1.4.0",
      "model_name": "HBoxModel",
      "state": {
       "children": [
        "IPY_MODEL_11ccef3dd1034b77a6641f9d8e2c6356",
        "IPY_MODEL_671999d2e08348d9a6bd97ed40fbaee3"
       ],
       "layout": "IPY_MODEL_e8fda8248cd34817a4af8d3e6ab1dd7e"
      }
     },
     "ad79810743b74d248ae530a69035ba1e": {
      "model_module": "@jupyter-widgets/controls",
      "model_module_version": "1.4.0",
      "model_name": "ProgressStyleModel",
      "state": {
       "description_width": "initial"
      }
     },
     "adb6d21fb9db45dbb9eedd2ac4c180a5": {
      "model_module": "@jupyter-widgets/controls",
      "model_module_version": "1.4.0",
      "model_name": "DescriptionStyleModel",
      "state": {
       "description_width": ""
      }
     },
     "b01fc9fafe6a4a8a864e21983fe072ef": {
      "model_module": "@jupyter-widgets/controls",
      "model_module_version": "1.4.0",
      "model_name": "HBoxModel",
      "state": {
       "children": [
        "IPY_MODEL_22cff9716c2e4c9d90f5f01c23cd10e3",
        "IPY_MODEL_564a19930f8840a180a9772eba6722ab"
       ],
       "layout": "IPY_MODEL_74e372acd25c47c48813785e6d13624e"
      }
     },
     "b1455beaeabd478e9030d540362125ee": {
      "model_module": "@jupyter-widgets/base",
      "model_module_version": "1.1.0",
      "model_name": "LayoutModel",
      "state": {}
     },
     "b170448d1e57484aafcea21cbbd413fe": {
      "model_module": "@jupyter-widgets/base",
      "model_module_version": "1.1.0",
      "model_name": "LayoutModel",
      "state": {}
     },
     "b300f1c845394915b175aa2572153e78": {
      "model_module": "@jupyter-widgets/base",
      "model_module_version": "1.1.0",
      "model_name": "LayoutModel",
      "state": {}
     },
     "b52849703d414103b0ad483eee715abc": {
      "model_module": "@jupyter-widgets/base",
      "model_module_version": "1.1.0",
      "model_name": "LayoutModel",
      "state": {}
     },
     "b6eb10450db34e9e8ac2e6eb9895f4ac": {
      "model_module": "@jupyter-widgets/controls",
      "model_module_version": "1.4.0",
      "model_name": "HTMLModel",
      "state": {
       "layout": "IPY_MODEL_c8d501928aab4422b415d721e89ca9f3",
       "style": "IPY_MODEL_f833902d16fe4ddab67b08fb7a0ce1d7",
       "value": "100% 400/400 [00:02&lt;00:00, 173.29it/s, acc=0.289, loss=2.113]"
      }
     },
     "b8a6315121f4468e8d9a3f3984d08aac": {
      "model_module": "@jupyter-widgets/base",
      "model_module_version": "1.1.0",
      "model_name": "LayoutModel",
      "state": {}
     },
     "b9158562fda24a4f99c32d3f039472e7": {
      "model_module": "@jupyter-widgets/controls",
      "model_module_version": "1.4.0",
      "model_name": "IntProgressModel",
      "state": {
       "bar_style": "success",
       "description": "epoch 09",
       "layout": "IPY_MODEL_53cfb6bd5aab428896d608e583491029",
       "style": "IPY_MODEL_deb78c03fad34e3eb279dd6568f5f743",
       "value": 100
      }
     },
     "b96a1e5abd324879a3f9550fb7d1f6aa": {
      "model_module": "@jupyter-widgets/base",
      "model_module_version": "1.1.0",
      "model_name": "LayoutModel",
      "state": {}
     },
     "bdb8328a671a41348c181aad1dadfcf7": {
      "model_module": "@jupyter-widgets/controls",
      "model_module_version": "1.4.0",
      "model_name": "HBoxModel",
      "state": {
       "children": [
        "IPY_MODEL_fae86f0ac3754e74b4bf022881f698e9",
        "IPY_MODEL_b6eb10450db34e9e8ac2e6eb9895f4ac"
       ],
       "layout": "IPY_MODEL_96e3400edd34475d890190b016495a27"
      }
     },
     "bf7a32a095e84eb28f52a90b3700df23": {
      "model_module": "@jupyter-widgets/controls",
      "model_module_version": "1.4.0",
      "model_name": "DescriptionStyleModel",
      "state": {
       "description_width": ""
      }
     },
     "c15b6e9a2d9340c5a645d7334548b3a6": {
      "model_module": "@jupyter-widgets/controls",
      "model_module_version": "1.4.0",
      "model_name": "HBoxModel",
      "state": {
       "children": [
        "IPY_MODEL_28b7ef90b719487eb40624d2778e8baf",
        "IPY_MODEL_f650207ba8ff43f099ac8a9224ae51ff"
       ],
       "layout": "IPY_MODEL_3228f25c8cdd445a95336724c981f2a8"
      }
     },
     "c1fd59a8f3554c8488858c99e2d34a30": {
      "model_module": "@jupyter-widgets/base",
      "model_module_version": "1.1.0",
      "model_name": "LayoutModel",
      "state": {}
     },
     "c81d72af75814e19861330a815f2b9a2": {
      "model_module": "@jupyter-widgets/controls",
      "model_module_version": "1.4.0",
      "model_name": "IntProgressModel",
      "state": {
       "bar_style": "success",
       "description": "epoch 07",
       "layout": "IPY_MODEL_ddf7e2303ee34e3ea049d445fec2bbc7",
       "max": 400,
       "style": "IPY_MODEL_0a2c0f1494bb4e339cb90b81cf6b3d32",
       "value": 400
      }
     },
     "c8d501928aab4422b415d721e89ca9f3": {
      "model_module": "@jupyter-widgets/base",
      "model_module_version": "1.1.0",
      "model_name": "LayoutModel",
      "state": {}
     },
     "cea80299ad274a28abfbfe91b82f5187": {
      "model_module": "@jupyter-widgets/controls",
      "model_module_version": "1.4.0",
      "model_name": "DescriptionStyleModel",
      "state": {
       "description_width": ""
      }
     },
     "d013035657f5491f80a5b9bd2d798c5b": {
      "model_module": "@jupyter-widgets/base",
      "model_module_version": "1.1.0",
      "model_name": "LayoutModel",
      "state": {}
     },
     "d3f26275659942f1a3025ed18f0c0fcc": {
      "model_module": "@jupyter-widgets/base",
      "model_module_version": "1.1.0",
      "model_name": "LayoutModel",
      "state": {}
     },
     "d4ece6de25f0482e948e910a1a3cf56c": {
      "model_module": "@jupyter-widgets/controls",
      "model_module_version": "1.4.0",
      "model_name": "ProgressStyleModel",
      "state": {
       "description_width": "initial"
      }
     },
     "d50d073eb8604bacb15660f15ec32977": {
      "model_module": "@jupyter-widgets/base",
      "model_module_version": "1.1.0",
      "model_name": "LayoutModel",
      "state": {}
     },
     "d51ed7be205845dfbc3c27fd907020b0": {
      "model_module": "@jupyter-widgets/controls",
      "model_module_version": "1.4.0",
      "model_name": "DescriptionStyleModel",
      "state": {
       "description_width": ""
      }
     },
     "d6ed9a82817f49b0a6b844ff9c40d8be": {
      "model_module": "@jupyter-widgets/controls",
      "model_module_version": "1.4.0",
      "model_name": "HTMLModel",
      "state": {
       "layout": "IPY_MODEL_45ca31f67e544c63b0a55fde9a02f7c1",
       "style": "IPY_MODEL_f07d83eeafa5440ebde523669a623875",
       "value": "100% 400/400 [00:02&lt;00:00, 173.62it/s, acc=0.302, loss=2.075]"
      }
     },
     "d7fe5757b13e43b8bb1eb8462a855684": {
      "model_module": "@jupyter-widgets/controls",
      "model_module_version": "1.4.0",
      "model_name": "HBoxModel",
      "state": {
       "children": [
        "IPY_MODEL_f15faec6c70f42b9845c2c0290cdb227",
        "IPY_MODEL_4eb2c7519c7c4fafb4421906658da267"
       ],
       "layout": "IPY_MODEL_1c11f6379291471fb299e06b54e661ff"
      }
     },
     "d829e769849f4797a44a5b1f26e24cb1": {
      "model_module": "@jupyter-widgets/controls",
      "model_module_version": "1.4.0",
      "model_name": "ProgressStyleModel",
      "state": {
       "description_width": "initial"
      }
     },
     "d96e844c3b0d4efe9b6be61d894ba41c": {
      "model_module": "@jupyter-widgets/controls",
      "model_module_version": "1.4.0",
      "model_name": "IntProgressModel",
      "state": {
       "bar_style": "success",
       "description": "epoch 01",
       "layout": "IPY_MODEL_1a370663feb043a8a3b3a2e9d426331b",
       "style": "IPY_MODEL_319bea1faa124c7297bb1a12d5c9b565",
       "value": 100
      }
     },
     "da3ca27594cc42319d5b30a03be16dee": {
      "model_module": "@jupyter-widgets/controls",
      "model_module_version": "1.4.0",
      "model_name": "ProgressStyleModel",
      "state": {
       "description_width": "initial"
      }
     },
     "ddf7e2303ee34e3ea049d445fec2bbc7": {
      "model_module": "@jupyter-widgets/base",
      "model_module_version": "1.1.0",
      "model_name": "LayoutModel",
      "state": {}
     },
     "de000c756cb64be0bc79f5a33595cc29": {
      "model_module": "@jupyter-widgets/controls",
      "model_module_version": "1.4.0",
      "model_name": "HBoxModel",
      "state": {
       "children": [
        "IPY_MODEL_97fbe3c9ae154fd38debd9742a6f6d56",
        "IPY_MODEL_63e47b5ed7ab4ad188d42cfa85019332"
       ],
       "layout": "IPY_MODEL_3fbc05251cdd485e8fb5f53a661b49ff"
      }
     },
     "deb78c03fad34e3eb279dd6568f5f743": {
      "model_module": "@jupyter-widgets/controls",
      "model_module_version": "1.4.0",
      "model_name": "ProgressStyleModel",
      "state": {
       "description_width": "initial"
      }
     },
     "e139e504455b4722b57fc98e8104815b": {
      "model_module": "@jupyter-widgets/controls",
      "model_module_version": "1.4.0",
      "model_name": "HTMLModel",
      "state": {
       "layout": "IPY_MODEL_2f860a37d90b4f4a8710dbdba2759074",
       "style": "IPY_MODEL_fd4b3084808d49938004ccb606e90eb8",
       "value": "100% 100/100 [00:00&lt;00:00, 257.74it/s, acc=0.250, loss=2.182]"
      }
     },
     "e19840dc133b4027bb982634262d4848": {
      "model_module": "@jupyter-widgets/controls",
      "model_module_version": "1.4.0",
      "model_name": "DescriptionStyleModel",
      "state": {
       "description_width": ""
      }
     },
     "e866ba42fe444f28a6d14cc1e9d661af": {
      "model_module": "@jupyter-widgets/base",
      "model_module_version": "1.1.0",
      "model_name": "LayoutModel",
      "state": {}
     },
     "e8fda8248cd34817a4af8d3e6ab1dd7e": {
      "model_module": "@jupyter-widgets/base",
      "model_module_version": "1.1.0",
      "model_name": "LayoutModel",
      "state": {}
     },
     "e9c0c0dee9f445dd8da5e7f9a1c1837f": {
      "model_module": "@jupyter-widgets/base",
      "model_module_version": "1.1.0",
      "model_name": "LayoutModel",
      "state": {}
     },
     "ead6e12ea5bc457fad3be0ccf903b822": {
      "model_module": "@jupyter-widgets/base",
      "model_module_version": "1.1.0",
      "model_name": "LayoutModel",
      "state": {}
     },
     "ec634e2eb25d4c5eaf66ea0f9e6d69c4": {
      "model_module": "@jupyter-widgets/controls",
      "model_module_version": "1.4.0",
      "model_name": "IntProgressModel",
      "state": {
       "bar_style": "success",
       "description": "epoch 03",
       "layout": "IPY_MODEL_9854b6da815b43e0888b686eb34b8ce0",
       "style": "IPY_MODEL_12b1706932be4eba898457fce4e243bc",
       "value": 100
      }
     },
     "ed0cc32234854c1a88ec8179630f1c48": {
      "model_module": "@jupyter-widgets/controls",
      "model_module_version": "1.4.0",
      "model_name": "IntProgressModel",
      "state": {
       "bar_style": "success",
       "description": "epoch 04",
       "layout": "IPY_MODEL_08685c6985854ae3881e18dc3d0e91b9",
       "max": 400,
       "style": "IPY_MODEL_46fedb570c2245bb9046fc37cf0f0164",
       "value": 400
      }
     },
     "edb873e1917d4f3cb7e336737ef46226": {
      "model_module": "@jupyter-widgets/controls",
      "model_module_version": "1.4.0",
      "model_name": "HBoxModel",
      "state": {
       "children": [
        "IPY_MODEL_ed0cc32234854c1a88ec8179630f1c48",
        "IPY_MODEL_f97f86186ba94574a087196ecb710f55"
       ],
       "layout": "IPY_MODEL_448b985f5a8e4ebeb4b0f442d4b8bd6f"
      }
     },
     "ee9c1301c32b426e9d5de976911affee": {
      "model_module": "@jupyter-widgets/base",
      "model_module_version": "1.1.0",
      "model_name": "LayoutModel",
      "state": {}
     },
     "f04126ed82be48839462ddec5601b702": {
      "model_module": "@jupyter-widgets/base",
      "model_module_version": "1.1.0",
      "model_name": "LayoutModel",
      "state": {}
     },
     "f07d83eeafa5440ebde523669a623875": {
      "model_module": "@jupyter-widgets/controls",
      "model_module_version": "1.4.0",
      "model_name": "DescriptionStyleModel",
      "state": {
       "description_width": ""
      }
     },
     "f15faec6c70f42b9845c2c0290cdb227": {
      "model_module": "@jupyter-widgets/controls",
      "model_module_version": "1.4.0",
      "model_name": "IntProgressModel",
      "state": {
       "bar_style": "success",
       "description": "epoch 06",
       "layout": "IPY_MODEL_b170448d1e57484aafcea21cbbd413fe",
       "max": 400,
       "style": "IPY_MODEL_fae20a00279146c0a4e1d0f7312577fd",
       "value": 400
      }
     },
     "f2a5e615126b4c018b19ef061ed57cce": {
      "model_module": "@jupyter-widgets/base",
      "model_module_version": "1.1.0",
      "model_name": "LayoutModel",
      "state": {}
     },
     "f650207ba8ff43f099ac8a9224ae51ff": {
      "model_module": "@jupyter-widgets/controls",
      "model_module_version": "1.4.0",
      "model_name": "HTMLModel",
      "state": {
       "layout": "IPY_MODEL_d3f26275659942f1a3025ed18f0c0fcc",
       "style": "IPY_MODEL_11e57462b20a40288bdf893b9e5681ff",
       "value": "100% 100/100 [00:00&lt;00:00, 250.01it/s, acc=0.300, loss=2.072]"
      }
     },
     "f7a7e1cb1aeb4971890b53f799a318fb": {
      "model_module": "@jupyter-widgets/controls",
      "model_module_version": "1.4.0",
      "model_name": "HTMLModel",
      "state": {
       "layout": "IPY_MODEL_7e38f73484cc472ebe5cfbded58b6947",
       "style": "IPY_MODEL_a6d4616d61a24397a3228d9f08b879e6",
       "value": "100% 100/100 [00:00&lt;00:00, 249.38it/s, acc=0.292, loss=2.087]"
      }
     },
     "f833902d16fe4ddab67b08fb7a0ce1d7": {
      "model_module": "@jupyter-widgets/controls",
      "model_module_version": "1.4.0",
      "model_name": "DescriptionStyleModel",
      "state": {
       "description_width": ""
      }
     },
     "f8d8568bd63b44358549b133592e3f0a": {
      "model_module": "@jupyter-widgets/controls",
      "model_module_version": "1.4.0",
      "model_name": "HBoxModel",
      "state": {
       "children": [
        "IPY_MODEL_b9158562fda24a4f99c32d3f039472e7",
        "IPY_MODEL_7cdc272ad4ca44d8b562d9275486e31e"
       ],
       "layout": "IPY_MODEL_81b02557839d4d539a381f3634e45251"
      }
     },
     "f97f86186ba94574a087196ecb710f55": {
      "model_module": "@jupyter-widgets/controls",
      "model_module_version": "1.4.0",
      "model_name": "HTMLModel",
      "state": {
       "layout": "IPY_MODEL_545a51a140894193b836e6a7e1c7b46d",
       "style": "IPY_MODEL_810c3c75dbec4eec8d76785fa86e40d7",
       "value": "100% 400/400 [00:02&lt;00:00, 179.81it/s, acc=0.277, loss=2.141]"
      }
     },
     "fae20a00279146c0a4e1d0f7312577fd": {
      "model_module": "@jupyter-widgets/controls",
      "model_module_version": "1.4.0",
      "model_name": "ProgressStyleModel",
      "state": {
       "description_width": "initial"
      }
     },
     "fae86f0ac3754e74b4bf022881f698e9": {
      "model_module": "@jupyter-widgets/controls",
      "model_module_version": "1.4.0",
      "model_name": "IntProgressModel",
      "state": {
       "bar_style": "success",
       "description": "epoch 05",
       "layout": "IPY_MODEL_557eeced24e14a938a0094767cf7d6ef",
       "max": 400,
       "style": "IPY_MODEL_da3ca27594cc42319d5b30a03be16dee",
       "value": 400
      }
     },
     "fbc70b62edda4bbeb0ba721e7e338846": {
      "model_module": "@jupyter-widgets/base",
      "model_module_version": "1.1.0",
      "model_name": "LayoutModel",
      "state": {}
     },
     "fd4b3084808d49938004ccb606e90eb8": {
      "model_module": "@jupyter-widgets/controls",
      "model_module_version": "1.4.0",
      "model_name": "DescriptionStyleModel",
      "state": {
       "description_width": ""
      }
     }
    },
    "version_major": 2,
    "version_minor": 0
   }
  }
 },
 "nbformat": 4,
 "nbformat_minor": 2
}
